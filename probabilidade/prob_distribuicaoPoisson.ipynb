{
 "cells": [
  {
   "cell_type": "markdown",
   "id": "2152eaf0",
   "metadata": {},
   "source": [
    "# Distribuição de Poisson\n",
    "- Ocorrência de eventos no decorrer do tempo (não considera  número de experimentos)\n",
    "- Os eventos devem ser independentes\n",
    "- Considera o número de 'sucessos' baseado no tempo\n",
    "- Paramêtros da fórmula\n",
    "    - X: número de eventos calculados\n",
    "    - Número de Euler (2.71828)\n",
    "    - Número médio de eventos (λ)\n",
    "    \n",
    "<big> $P(X = x) = e^{-λ} . \\frac{λ^x}{x!}$ </big>"
   ]
  },
  {
   "cell_type": "markdown",
   "id": "f31ef03e",
   "metadata": {},
   "source": [
    "# Exemplo\n",
    "- O número médio de carros vendidos por dia é 10. Qual a probabilidade de vender 14 carros amanhã?\n",
    "    - x = 14\n",
    "    - média = 10"
   ]
  },
  {
   "cell_type": "code",
   "execution_count": 1,
   "id": "a30f6e09",
   "metadata": {},
   "outputs": [],
   "source": [
    "from scipy import stats\n",
    "import math"
   ]
  },
  {
   "cell_type": "code",
   "execution_count": 20,
   "id": "e6f43707",
   "metadata": {},
   "outputs": [],
   "source": [
    "x = 14\n",
    "media = 10\n",
    "e = math.e"
   ]
  },
  {
   "cell_type": "code",
   "execution_count": 21,
   "id": "5abe7a42",
   "metadata": {},
   "outputs": [
    {
     "data": {
      "text/plain": [
       "0.05207710444602621"
      ]
     },
     "execution_count": 21,
     "metadata": {},
     "output_type": "execute_result"
    }
   ],
   "source": [
    "math.pow(e, -media) * (math.pow(media, x) / math.factorial(x))"
   ]
  },
  {
   "cell_type": "code",
   "execution_count": 22,
   "id": "b74bc88b",
   "metadata": {},
   "outputs": [
    {
     "data": {
      "text/plain": [
       "0.05207710444602615"
      ]
     },
     "execution_count": 22,
     "metadata": {},
     "output_type": "execute_result"
    }
   ],
   "source": [
    "stats.poisson.pmf(x, media)"
   ]
  },
  {
   "cell_type": "markdown",
   "id": "7d6c7356",
   "metadata": {},
   "source": [
    "# Exercícios"
   ]
  },
  {
   "cell_type": "markdown",
   "id": "a65361e9",
   "metadata": {},
   "source": [
    "## Exercício 1\n",
    "- Em uma linha de produção de uma fábrica de parafusos, a probabilidade é de obter 0,05 defeitos por UNIDADE. Qual a probabilidade de uma unidade apresentar:\n",
    "\n",
    "**1. Um defeito?**"
   ]
  },
  {
   "cell_type": "code",
   "execution_count": 23,
   "id": "64ce85fc",
   "metadata": {},
   "outputs": [],
   "source": [
    "x0 = 1\n",
    "media0 = 0.05\n",
    "e = math.e"
   ]
  },
  {
   "cell_type": "code",
   "execution_count": 31,
   "id": "817ef472",
   "metadata": {},
   "outputs": [
    {
     "name": "stdout",
     "output_type": "stream",
     "text": [
      "0.047561471225035706\n",
      "0.04756147122503571\n"
     ]
    }
   ],
   "source": [
    "print(math.pow(e, -media0) * (math.pow(media0, x0) / math.factorial(x0)))\n",
    "print(stats.poisson.pmf(x0, media0))"
   ]
  },
  {
   "cell_type": "markdown",
   "id": "033954ca",
   "metadata": {},
   "source": [
    "**2. Nenhum defeito?**"
   ]
  },
  {
   "cell_type": "code",
   "execution_count": 25,
   "id": "cececa00",
   "metadata": {},
   "outputs": [],
   "source": [
    "x1 = 0\n",
    "media1 = 0.05\n",
    "e = math.e"
   ]
  },
  {
   "cell_type": "code",
   "execution_count": 28,
   "id": "8881a521",
   "metadata": {},
   "outputs": [
    {
     "name": "stdout",
     "output_type": "stream",
     "text": [
      "0.951229424500714\n",
      "0.951229424500714\n"
     ]
    }
   ],
   "source": [
    "print(math.pow(e, -media1) * (math.pow(media1, x1) / math.factorial(x1)))\n",
    "print(stats.poisson.pmf(x1, media1))"
   ]
  },
  {
   "cell_type": "markdown",
   "id": "f85ba0ca",
   "metadata": {},
   "source": [
    "## Exercício 2\n",
    "- Um vendedor de uma loja vende em média 50 produtos por dia. Qual a probabilidade de vender somente 5 produtos no próximo dia?"
   ]
  },
  {
   "cell_type": "code",
   "execution_count": 35,
   "id": "579676bb",
   "metadata": {},
   "outputs": [],
   "source": [
    "x2 = 5\n",
    "media2 = 50\n",
    "e = math.e"
   ]
  },
  {
   "cell_type": "code",
   "execution_count": 37,
   "id": "99596bae",
   "metadata": {},
   "outputs": [
    {
     "name": "stdout",
     "output_type": "stream",
     "text": [
      "5.022786062406049e-16\n",
      "5.02278606240605e-16\n"
     ]
    }
   ],
   "source": [
    "print(math.pow(e, -media2) * (math.pow(media2, x2) / math.factorial(x2)))\n",
    "print(stats.poisson.pmf(x2, media2))"
   ]
  },
  {
   "cell_type": "code",
   "execution_count": null,
   "id": "80507564",
   "metadata": {},
   "outputs": [],
   "source": []
  }
 ],
 "metadata": {
  "kernelspec": {
   "display_name": "Python 3 (ipykernel)",
   "language": "python",
   "name": "python3"
  },
  "language_info": {
   "codemirror_mode": {
    "name": "ipython",
    "version": 3
   },
   "file_extension": ".py",
   "mimetype": "text/x-python",
   "name": "python",
   "nbconvert_exporter": "python",
   "pygments_lexer": "ipython3",
   "version": "3.9.7"
  }
 },
 "nbformat": 4,
 "nbformat_minor": 5
}

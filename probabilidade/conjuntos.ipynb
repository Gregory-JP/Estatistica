{
 "cells": [
  {
   "cell_type": "code",
   "execution_count": 3,
   "id": "84193b0f",
   "metadata": {},
   "outputs": [],
   "source": [
    "a = (0, 1, 2, 3, 4, 5, 6, 7)\n",
    "b = (0, 2, 4, 6, 8)"
   ]
  },
  {
   "cell_type": "markdown",
   "id": "3eb8b7ca",
   "metadata": {},
   "source": [
    "## Interseção"
   ]
  },
  {
   "cell_type": "code",
   "execution_count": 4,
   "id": "527565bf",
   "metadata": {},
   "outputs": [
    {
     "data": {
      "text/plain": [
       "{0, 2, 4, 6}"
      ]
     },
     "execution_count": 4,
     "metadata": {},
     "output_type": "execute_result"
    }
   ],
   "source": [
    "set(a) & set(b)"
   ]
  },
  {
   "cell_type": "markdown",
   "id": "527758d7",
   "metadata": {},
   "source": [
    "## União"
   ]
  },
  {
   "cell_type": "code",
   "execution_count": 5,
   "id": "5fdf83e1",
   "metadata": {},
   "outputs": [
    {
     "data": {
      "text/plain": [
       "{0, 1, 2, 3, 4, 5, 6, 7, 8}"
      ]
     },
     "execution_count": 5,
     "metadata": {},
     "output_type": "execute_result"
    }
   ],
   "source": [
    "set(a) | set(b)"
   ]
  },
  {
   "cell_type": "markdown",
   "id": "ae740a28",
   "metadata": {},
   "source": [
    "## Diferença"
   ]
  },
  {
   "cell_type": "code",
   "execution_count": 7,
   "id": "292be4cc",
   "metadata": {},
   "outputs": [
    {
     "data": {
      "text/plain": [
       "{1, 3, 5, 7}"
      ]
     },
     "execution_count": 7,
     "metadata": {},
     "output_type": "execute_result"
    }
   ],
   "source": [
    "set(a).difference(set(b))"
   ]
  },
  {
   "cell_type": "code",
   "execution_count": 8,
   "id": "a6dee16d",
   "metadata": {},
   "outputs": [
    {
     "data": {
      "text/plain": [
       "{8}"
      ]
     },
     "execution_count": 8,
     "metadata": {},
     "output_type": "execute_result"
    }
   ],
   "source": [
    "set(b).difference(set(a))"
   ]
  },
  {
   "cell_type": "code",
   "execution_count": null,
   "id": "6b674b77",
   "metadata": {},
   "outputs": [],
   "source": []
  }
 ],
 "metadata": {
  "kernelspec": {
   "display_name": "Python 3 (ipykernel)",
   "language": "python",
   "name": "python3"
  },
  "language_info": {
   "codemirror_mode": {
    "name": "ipython",
    "version": 3
   },
   "file_extension": ".py",
   "mimetype": "text/x-python",
   "name": "python",
   "nbconvert_exporter": "python",
   "pygments_lexer": "ipython3",
   "version": "3.9.7"
  }
 },
 "nbformat": 4,
 "nbformat_minor": 5
}

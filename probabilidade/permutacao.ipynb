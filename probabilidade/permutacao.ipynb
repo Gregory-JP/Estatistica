{
 "cells": [
  {
   "cell_type": "code",
   "execution_count": 2,
   "id": "cc464056",
   "metadata": {},
   "outputs": [],
   "source": [
    "import numpy as np\n",
    "from scipy import stats\n",
    "import seaborn as sns\n",
    "import math"
   ]
  },
  {
   "cell_type": "code",
   "execution_count": 3,
   "id": "edff0949",
   "metadata": {},
   "outputs": [
    {
     "data": {
      "text/plain": [
       "6"
      ]
     },
     "execution_count": 3,
     "metadata": {},
     "output_type": "execute_result"
    }
   ],
   "source": [
    "# A, B, C, quantas maneiras diferentes eu posso organizar essas letras?\n",
    "math.factorial(3)"
   ]
  },
  {
   "cell_type": "code",
   "execution_count": 6,
   "id": "3d105baa",
   "metadata": {},
   "outputs": [
    {
     "data": {
      "text/plain": [
       "45239040.0"
      ]
     },
     "execution_count": 6,
     "metadata": {},
     "output_type": "execute_result"
    }
   ],
   "source": [
    "# Criar uma senha com 5 caracterer, que pode ser composta por letras e números de 0 até 9,\n",
    "# números e letras não podem ser repetidos, letras minusculas apenas.\n",
    "\n",
    "# evento = 5 (numero de caracteres da senha)\n",
    "# espaço amostral = 26 letras + 10 digítos = 36\n",
    "\n",
    "\n",
    "math.factorial(36) / math.factorial(36 - 5)"
   ]
  },
  {
   "cell_type": "code",
   "execution_count": 7,
   "id": "690e781a",
   "metadata": {},
   "outputs": [
    {
     "data": {
      "text/plain": [
       "60466176.0"
      ]
     },
     "execution_count": 7,
     "metadata": {},
     "output_type": "execute_result"
    }
   ],
   "source": [
    "# Criar uma senha com 5 caracterer, que pode ser composta por letras e números de 0 até 9,\n",
    "# números e letras PODEM ser repetidos, letras minusculas apenas.\n",
    "\n",
    "# evento = 5 (numero de caracteres da senha)\n",
    "# espaço amostral = 26 letras + 10 digítos = 36\n",
    "\n",
    "math.pow(36, 5)"
   ]
  },
  {
   "cell_type": "code",
   "execution_count": null,
   "id": "4916f58c",
   "metadata": {},
   "outputs": [],
   "source": []
  }
 ],
 "metadata": {
  "kernelspec": {
   "display_name": "Python 3 (ipykernel)",
   "language": "python",
   "name": "python3"
  },
  "language_info": {
   "codemirror_mode": {
    "name": "ipython",
    "version": 3
   },
   "file_extension": ".py",
   "mimetype": "text/x-python",
   "name": "python",
   "nbconvert_exporter": "python",
   "pygments_lexer": "ipython3",
   "version": "3.9.7"
  }
 },
 "nbformat": 4,
 "nbformat_minor": 5
}

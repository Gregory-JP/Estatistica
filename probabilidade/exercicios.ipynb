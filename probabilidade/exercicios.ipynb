{
 "cells": [
  {
   "cell_type": "code",
   "execution_count": 1,
   "id": "0dc47fe8",
   "metadata": {},
   "outputs": [],
   "source": [
    "from scipy import stats as st"
   ]
  },
  {
   "cell_type": "markdown",
   "id": "80470535",
   "metadata": {},
   "source": [
    "## Exercício 1\n",
    "**Uma empresa fez um concurso para seleção de novos funcionários. A prova tinha 50 questões e o Pedro acertou 40 questões. Considerando uma distribuição normal com média 24 e desvio padrão de 8, quais são as chances dele ser contratado?**"
   ]
  },
  {
   "cell_type": "code",
   "execution_count": 20,
   "id": "54104528",
   "metadata": {},
   "outputs": [
    {
     "name": "stdout",
     "output_type": "stream",
     "text": [
      "2.0\n",
      "0.9772498680518208\n",
      "2.0000000000000004\n"
     ]
    }
   ],
   "source": [
    "x = 40\n",
    "media = 24\n",
    "desvio_padrao = 8\n",
    "\n",
    "prob = (40 - media) / desvio_padrao\n",
    "print(prob) # ver 2.0 na tabela z ou, código abaixo:\n",
    "\n",
    "print(st.norm.cdf(prob))\n",
    "\n",
    "print(st.norm.ppf(0.9772498680518208)) # valor de z\n",
    "\n",
    "# print(st.norm.cdf(x, media, desvio_padrao))"
   ]
  },
  {
   "cell_type": "markdown",
   "id": "5d485ffd",
   "metadata": {},
   "source": [
    "## Exercício 2\n",
    "- **A vida útil de uma marca de pneus é presentada por uma distribuição normal com média de 38.000 km e desvio padrão de 3.000 Km.**\n",
    "\n",
    "1. Qual a probabilidade de que um pneu escolhido aleatoriamente tenha vida útil de 35.000Km?"
   ]
  },
  {
   "cell_type": "code",
   "execution_count": 25,
   "id": "3eee6eaf",
   "metadata": {},
   "outputs": [
    {
     "name": "stdout",
     "output_type": "stream",
     "text": [
      "0.8413447460685429\n"
     ]
    }
   ],
   "source": [
    "media2 = 38.000\n",
    "desvio_padrao2 = 3.000\n",
    "\n",
    "x1 = 35.000\n",
    "\n",
    "prob1 = (x1 - media2) / desvio_padrao2\n",
    "\n",
    "print(1 - st.norm.cdf(prob1))"
   ]
  },
  {
   "cell_type": "markdown",
   "id": "9a31e105",
   "metadata": {},
   "source": [
    "2. Qual a probabilidade de que ele dure mais do que 44.000 Km?"
   ]
  },
  {
   "cell_type": "code",
   "execution_count": 26,
   "id": "ac7c1f90",
   "metadata": {},
   "outputs": [
    {
     "name": "stdout",
     "output_type": "stream",
     "text": [
      "0.02275013194817921\n"
     ]
    }
   ],
   "source": [
    "x2 = 44.000\n",
    "\n",
    "prob2 = (x2 - media2) / desvio_padrao2\n",
    "print(1 - st.norm.cdf(prob2))"
   ]
  },
  {
   "cell_type": "code",
   "execution_count": null,
   "id": "63b5ad2b",
   "metadata": {},
   "outputs": [],
   "source": []
  }
 ],
 "metadata": {
  "kernelspec": {
   "display_name": "Python 3 (ipykernel)",
   "language": "python",
   "name": "python3"
  },
  "language_info": {
   "codemirror_mode": {
    "name": "ipython",
    "version": 3
   },
   "file_extension": ".py",
   "mimetype": "text/x-python",
   "name": "python",
   "nbconvert_exporter": "python",
   "pygments_lexer": "ipython3",
   "version": "3.9.7"
  }
 },
 "nbformat": 4,
 "nbformat_minor": 5
}

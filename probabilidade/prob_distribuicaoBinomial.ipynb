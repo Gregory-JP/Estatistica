{
 "cells": [
  {
   "cell_type": "markdown",
   "id": "b909966f",
   "metadata": {},
   "source": [
    "## Distribuição Binomial\n",
    "\n",
    "- Respostas sucesso ou fracasso e experimentos independentes\n",
    "- Moedas e baralho, por exemplo.\n",
    "- Probabilidade de selecionar 'coroa' 5 vezes\n",
    "- Parâmetros:\n",
    "    - x = 5 (número de sucessos)\n",
    "    - p = 0.5 (probabilidade de sucesso)\n",
    "    - n = 10 (quantidade de tentativas - trials)\n",
    "    \n",
    "<big> $P(X = x) = \\frac{n!}{x!(n - x)!}.p^x(1 - p)^{n - x}$ <big/>"
   ]
  },
  {
   "cell_type": "markdown",
   "id": "12aa9c00",
   "metadata": {},
   "source": [
    "**Exemplo das moedas**\n",
    "- Jogando a moeda 10 vezes, qual a probabilida de obter 5 'caras'?"
   ]
  },
  {
   "cell_type": "code",
   "execution_count": 8,
   "id": "02e818df",
   "metadata": {},
   "outputs": [],
   "source": [
    "import math\n",
    "from scipy import stats"
   ]
  },
  {
   "cell_type": "code",
   "execution_count": 2,
   "id": "3c0718bb",
   "metadata": {},
   "outputs": [],
   "source": [
    "n = 10\n",
    "x = 5\n",
    "p = 0.5"
   ]
  },
  {
   "cell_type": "code",
   "execution_count": 5,
   "id": "4b4dc1c6",
   "metadata": {},
   "outputs": [
    {
     "data": {
      "text/plain": [
       "0.24609375"
      ]
     },
     "execution_count": 5,
     "metadata": {},
     "output_type": "execute_result"
    }
   ],
   "source": [
    "(math.factorial(n)) / (math.factorial(x) * (math.factorial(n - x))) * math.pow(p, x) * math.pow(1 - p, n - x)"
   ]
  },
  {
   "cell_type": "code",
   "execution_count": 9,
   "id": "d347b873",
   "metadata": {},
   "outputs": [
    {
     "data": {
      "text/plain": [
       "0.24609375000000003"
      ]
     },
     "execution_count": 9,
     "metadata": {},
     "output_type": "execute_result"
    }
   ],
   "source": [
    "stats.binom.pmf(x, n, p)"
   ]
  },
  {
   "cell_type": "markdown",
   "id": "8b0c45e7",
   "metadata": {},
   "source": [
    "# Exercícios"
   ]
  },
  {
   "cell_type": "markdown",
   "id": "aa712fe8",
   "metadata": {},
   "source": [
    "## Exercício 1\n",
    "- 70% das pessoas que compraram o livro de Python são mulheres. Se 10 leitores forem selecionados randomicamente, qual a probabilidade de selecionarmos 7 mulheres?"
   ]
  },
  {
   "cell_type": "code",
   "execution_count": 20,
   "id": "36b80c9e",
   "metadata": {},
   "outputs": [],
   "source": [
    "x0 = 7 # 7 mulheres que queremos sortear\n",
    "p0 = 0.7\n",
    "n0 = 10 # leitores sorteados randomicamente"
   ]
  },
  {
   "cell_type": "code",
   "execution_count": 21,
   "id": "e58be5ad",
   "metadata": {},
   "outputs": [
    {
     "data": {
      "text/plain": [
       "0.266827932"
      ]
     },
     "execution_count": 21,
     "metadata": {},
     "output_type": "execute_result"
    }
   ],
   "source": [
    "(math.factorial(n0)) / (math.factorial(x0) * (math.factorial(n0 - x0))) * math.pow(p0, x0) * math.pow(1 - p0, n0 - x0)"
   ]
  },
  {
   "cell_type": "code",
   "execution_count": 22,
   "id": "2f99d8d6",
   "metadata": {},
   "outputs": [
    {
     "data": {
      "text/plain": [
       "0.26682793200000005"
      ]
     },
     "execution_count": 22,
     "metadata": {},
     "output_type": "execute_result"
    }
   ],
   "source": [
    "stats.binom.pmf(x0, n0, p0)"
   ]
  },
  {
   "cell_type": "markdown",
   "id": "f98382e9",
   "metadata": {},
   "source": [
    "## Exercício 2\n",
    "- Em uma linha de produção de uma fábrica de parafusos, a probabilidade de obter um parafuso defeituoso é 0,05. Tendo uma amostra de 50 peças, qual a probailidade de obter:\n",
    "\n",
    "**1. Um parafuso defeituoso?**"
   ]
  },
  {
   "cell_type": "code",
   "execution_count": 23,
   "id": "4f22b04c",
   "metadata": {},
   "outputs": [],
   "source": [
    "n1 = 50 # número de tentativas\n",
    "x1 = 1 # número de sucessos\n",
    "p1 = 0.05"
   ]
  },
  {
   "cell_type": "code",
   "execution_count": 24,
   "id": "6083e1da",
   "metadata": {},
   "outputs": [
    {
     "data": {
      "text/plain": [
       "0.2024867770439825"
      ]
     },
     "execution_count": 24,
     "metadata": {},
     "output_type": "execute_result"
    }
   ],
   "source": [
    "stats.binom.pmf(x1, n1, p1)"
   ]
  },
  {
   "cell_type": "markdown",
   "id": "35415bab",
   "metadata": {},
   "source": [
    "**2. Nenhum parafuso defeituoso?**"
   ]
  },
  {
   "cell_type": "code",
   "execution_count": 25,
   "id": "ddd21b3e",
   "metadata": {},
   "outputs": [],
   "source": [
    "n2 = 50\n",
    "x2 = 0\n",
    "p2 = 0.05"
   ]
  },
  {
   "cell_type": "code",
   "execution_count": 27,
   "id": "2339eabc",
   "metadata": {},
   "outputs": [
    {
     "data": {
      "text/plain": [
       "0.07694497527671315"
      ]
     },
     "execution_count": 27,
     "metadata": {},
     "output_type": "execute_result"
    }
   ],
   "source": [
    "stats.binom.pmf(x2, n2, p2)"
   ]
  },
  {
   "cell_type": "code",
   "execution_count": null,
   "id": "180426a5",
   "metadata": {},
   "outputs": [],
   "source": []
  }
 ],
 "metadata": {
  "kernelspec": {
   "display_name": "Python 3 (ipykernel)",
   "language": "python",
   "name": "python3"
  },
  "language_info": {
   "codemirror_mode": {
    "name": "ipython",
    "version": 3
   },
   "file_extension": ".py",
   "mimetype": "text/x-python",
   "name": "python",
   "nbconvert_exporter": "python",
   "pygments_lexer": "ipython3",
   "version": "3.9.7"
  }
 },
 "nbformat": 4,
 "nbformat_minor": 5
}

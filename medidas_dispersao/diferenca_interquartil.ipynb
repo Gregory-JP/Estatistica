{
 "cells": [
  {
   "cell_type": "code",
   "execution_count": 1,
   "id": "68f4f1fb",
   "metadata": {},
   "outputs": [],
   "source": [
    "import numpy as np"
   ]
  },
  {
   "cell_type": "code",
   "execution_count": 2,
   "id": "2f565dae",
   "metadata": {},
   "outputs": [],
   "source": [
    "dados = np.array([150, 151, 152, 152, 153, 154, 155, 155, 155, 155, 156, 156, 156,\n",
    "                  157, 158, 158, 160, 160, 160, 160, 160, 161, 161, 161, 161, 162,\n",
    "                  163, 163, 164, 164, 164, 165, 166, 167, 168, 168, 169, 170, 172,\n",
    "                  173])"
   ]
  },
  {
   "cell_type": "code",
   "execution_count": 3,
   "id": "d5150653",
   "metadata": {},
   "outputs": [
    {
     "data": {
      "text/plain": [
       "(155.75, 164.0)"
      ]
     },
     "execution_count": 3,
     "metadata": {},
     "output_type": "execute_result"
    }
   ],
   "source": [
    "q1 = np.quantile(dados, 0.25)\n",
    "q3 = np.quantile(dados, 0.75)\n",
    "\n",
    "q1, q3"
   ]
  },
  {
   "cell_type": "code",
   "execution_count": 4,
   "id": "e74fe165",
   "metadata": {},
   "outputs": [
    {
     "data": {
      "text/plain": [
       "8.25"
      ]
     },
     "execution_count": 4,
     "metadata": {},
     "output_type": "execute_result"
    }
   ],
   "source": [
    "di = q3 - q1\n",
    "di"
   ]
  },
  {
   "cell_type": "code",
   "execution_count": 5,
   "id": "81af2d17",
   "metadata": {},
   "outputs": [
    {
     "data": {
      "text/plain": [
       "143.375"
      ]
     },
     "execution_count": 5,
     "metadata": {},
     "output_type": "execute_result"
    }
   ],
   "source": [
    "inferior = q1 - (1.5 * di)\n",
    "inferior"
   ]
  },
  {
   "cell_type": "code",
   "execution_count": 6,
   "id": "e3c63b5f",
   "metadata": {},
   "outputs": [
    {
     "data": {
      "text/plain": [
       "176.375"
      ]
     },
     "execution_count": 6,
     "metadata": {},
     "output_type": "execute_result"
    }
   ],
   "source": [
    "superior = q3 + (1.5 * di)\n",
    "superior"
   ]
  },
  {
   "cell_type": "code",
   "execution_count": null,
   "id": "1aacdfca",
   "metadata": {},
   "outputs": [],
   "source": []
  }
 ],
 "metadata": {
  "kernelspec": {
   "display_name": "Python 3 (ipykernel)",
   "language": "python",
   "name": "python3"
  },
  "language_info": {
   "codemirror_mode": {
    "name": "ipython",
    "version": 3
   },
   "file_extension": ".py",
   "mimetype": "text/x-python",
   "name": "python",
   "nbconvert_exporter": "python",
   "pygments_lexer": "ipython3",
   "version": "3.9.7"
  }
 },
 "nbformat": 4,
 "nbformat_minor": 5
}

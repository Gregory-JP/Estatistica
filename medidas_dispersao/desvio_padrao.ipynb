{
 "cells": [
  {
   "cell_type": "code",
   "execution_count": 23,
   "id": "c3e47b95",
   "metadata": {},
   "outputs": [],
   "source": [
    "from scipy import stats\n",
    "import numpy as np\n",
    "import statistics"
   ]
  },
  {
   "cell_type": "code",
   "execution_count": 16,
   "id": "ea1b9808",
   "metadata": {},
   "outputs": [],
   "source": [
    "dados = np.array([150, 151, 152, 152, 153, 154, 155, 155, 155])"
   ]
  },
  {
   "cell_type": "markdown",
   "id": "d578efe3",
   "metadata": {},
   "source": [
    "## Cálculo manual"
   ]
  },
  {
   "cell_type": "code",
   "execution_count": 31,
   "id": "9f389c3e",
   "metadata": {},
   "outputs": [],
   "source": [
    "def standard_deviation(dados):\n",
    "    mean = sum(dados) / len(dados)\n",
    "    variance = 0\n",
    "    \n",
    "    for i in dados:\n",
    "        # variance += (i - media) ** 2\n",
    "        variance += abs((i - mean)) ** 2\n",
    "    \n",
    "    \n",
    "    return (variance / len(dados)) ** 0.5"
   ]
  },
  {
   "cell_type": "code",
   "execution_count": 32,
   "id": "1300deb9",
   "metadata": {},
   "outputs": [
    {
     "data": {
      "text/plain": [
       "1.7638342073763937"
      ]
     },
     "execution_count": 32,
     "metadata": {},
     "output_type": "execute_result"
    }
   ],
   "source": [
    "variance(dados)"
   ]
  },
  {
   "cell_type": "markdown",
   "id": "8395770c",
   "metadata": {},
   "source": [
    "## Bibliotecas"
   ]
  },
  {
   "cell_type": "code",
   "execution_count": 19,
   "id": "c559f7db",
   "metadata": {},
   "outputs": [
    {
     "data": {
      "text/plain": [
       "1.7638342073763937"
      ]
     },
     "execution_count": 19,
     "metadata": {},
     "output_type": "execute_result"
    }
   ],
   "source": [
    "# numpy\n",
    "dados.std()"
   ]
  },
  {
   "cell_type": "code",
   "execution_count": 21,
   "id": "05d4e71a",
   "metadata": {},
   "outputs": [
    {
     "data": {
      "text/plain": [
       "1.7320508075688772"
      ]
     },
     "execution_count": 21,
     "metadata": {},
     "output_type": "execute_result"
    }
   ],
   "source": [
    "# statistics\n",
    "statistics.stdev(dados)"
   ]
  },
  {
   "cell_type": "code",
   "execution_count": 30,
   "id": "df911fe7",
   "metadata": {},
   "outputs": [
    {
     "data": {
      "text/plain": [
       "1.7638342073763937"
      ]
     },
     "execution_count": 30,
     "metadata": {},
     "output_type": "execute_result"
    }
   ],
   "source": [
    "# scipy\n",
    "stats.tstd(dados, ddof=0)"
   ]
  },
  {
   "cell_type": "code",
   "execution_count": null,
   "id": "3b4ed30a",
   "metadata": {},
   "outputs": [],
   "source": []
  }
 ],
 "metadata": {
  "kernelspec": {
   "display_name": "Python 3 (ipykernel)",
   "language": "python",
   "name": "python3"
  },
  "language_info": {
   "codemirror_mode": {
    "name": "ipython",
    "version": 3
   },
   "file_extension": ".py",
   "mimetype": "text/x-python",
   "name": "python",
   "nbconvert_exporter": "python",
   "pygments_lexer": "ipython3",
   "version": "3.9.7"
  }
 },
 "nbformat": 4,
 "nbformat_minor": 5
}

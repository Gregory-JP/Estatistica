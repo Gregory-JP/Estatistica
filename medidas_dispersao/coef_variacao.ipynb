{
 "cells": [
  {
   "cell_type": "code",
   "execution_count": 21,
   "id": "093ce82d",
   "metadata": {},
   "outputs": [],
   "source": [
    "from scipy import stats\n",
    "import numpy as np"
   ]
  },
  {
   "cell_type": "code",
   "execution_count": 2,
   "id": "5f4c2514",
   "metadata": {},
   "outputs": [],
   "source": [
    "dados = np.array([150, 151, 152, 152, 153, 154, 155, 155, 155])"
   ]
  },
  {
   "cell_type": "code",
   "execution_count": 7,
   "id": "52e9d2b2",
   "metadata": {},
   "outputs": [],
   "source": [
    "def standard_deviation(dados):\n",
    "    mean = sum(dados) / len(dados)\n",
    "    variance = 0\n",
    "    \n",
    "    for i in dados:\n",
    "        # variance += (i - media) ** 2\n",
    "        variance += abs((i - mean)) ** 2\n",
    "    \n",
    "    \n",
    "    return (variance / len(dados)) ** 0.5"
   ]
  },
  {
   "cell_type": "markdown",
   "id": "81fcefc1",
   "metadata": {},
   "source": [
    "## Cálculo manual"
   ]
  },
  {
   "cell_type": "code",
   "execution_count": 19,
   "id": "9804219e",
   "metadata": {},
   "outputs": [],
   "source": [
    "def coefficient_variation(dados):\n",
    "    media = sum(dados) / len(dados)\n",
    "    \n",
    "    cv = (standard_deviation(dados) / media) * 100\n",
    "    \n",
    "    return f'{cv:.2f}%'"
   ]
  },
  {
   "cell_type": "code",
   "execution_count": 20,
   "id": "77edd202",
   "metadata": {},
   "outputs": [
    {
     "data": {
      "text/plain": [
       "'1.15%'"
      ]
     },
     "execution_count": 20,
     "metadata": {},
     "output_type": "execute_result"
    }
   ],
   "source": [
    "coefficient_variation(dados)"
   ]
  },
  {
   "cell_type": "markdown",
   "id": "2fa6fe94",
   "metadata": {},
   "source": [
    "## Bibliotecas"
   ]
  },
  {
   "cell_type": "code",
   "execution_count": 23,
   "id": "f1b26f52",
   "metadata": {},
   "outputs": [
    {
     "data": {
      "text/plain": [
       "1.1528328152786886"
      ]
     },
     "execution_count": 23,
     "metadata": {},
     "output_type": "execute_result"
    }
   ],
   "source": [
    "# scipy\n",
    "stats.variation(dados) * 100"
   ]
  },
  {
   "cell_type": "code",
   "execution_count": null,
   "id": "9428aafd",
   "metadata": {},
   "outputs": [],
   "source": []
  }
 ],
 "metadata": {
  "kernelspec": {
   "display_name": "Python 3 (ipykernel)",
   "language": "python",
   "name": "python3"
  },
  "language_info": {
   "codemirror_mode": {
    "name": "ipython",
    "version": 3
   },
   "file_extension": ".py",
   "mimetype": "text/x-python",
   "name": "python",
   "nbconvert_exporter": "python",
   "pygments_lexer": "ipython3",
   "version": "3.9.7"
  }
 },
 "nbformat": 4,
 "nbformat_minor": 5
}

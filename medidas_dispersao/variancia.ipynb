{
 "cells": [
  {
   "cell_type": "code",
   "execution_count": 32,
   "id": "a255da93",
   "metadata": {},
   "outputs": [],
   "source": [
    "import numpy as np\n",
    "import statistics\n",
    "from scipy import ndimage"
   ]
  },
  {
   "cell_type": "code",
   "execution_count": 2,
   "id": "934c0519",
   "metadata": {},
   "outputs": [],
   "source": [
    "dados_impar = np.array([150, 151, 152, 152, 153, 154, 155, 155, 155])"
   ]
  },
  {
   "cell_type": "markdown",
   "id": "b392d370",
   "metadata": {},
   "source": [
    "## Cáculo manual"
   ]
  },
  {
   "cell_type": "code",
   "execution_count": 22,
   "id": "10217133",
   "metadata": {},
   "outputs": [],
   "source": [
    "def variance(dados):\n",
    "    media = sum(dados) / len(dados)\n",
    "    variance = 0\n",
    "    \n",
    "    for i in dados:\n",
    "        # variance += (i - media) ** 2\n",
    "        variance += abs((i - media)) ** 2\n",
    "    \n",
    "    \n",
    "    return variance / len(dados)"
   ]
  },
  {
   "cell_type": "code",
   "execution_count": 23,
   "id": "d16a0528",
   "metadata": {},
   "outputs": [
    {
     "data": {
      "text/plain": [
       "3.111111111111111"
      ]
     },
     "execution_count": 23,
     "metadata": {},
     "output_type": "execute_result"
    }
   ],
   "source": [
    "variance(dados_impar)"
   ]
  },
  {
   "cell_type": "code",
   "execution_count": 25,
   "id": "5a5e62d5",
   "metadata": {},
   "outputs": [],
   "source": [
    "def get_variance(dados):\n",
    "    media = sum(dados) / len(dados)\n",
    "    \n",
    "    desvio = abs(dados - media)\n",
    "    desvio = desvio ** 2\n",
    "    soma_desvio = sum(desvio)\n",
    "    \n",
    "    return soma_desvio / len(dados)"
   ]
  },
  {
   "cell_type": "code",
   "execution_count": 27,
   "id": "ef8b6ad5",
   "metadata": {},
   "outputs": [
    {
     "data": {
      "text/plain": [
       "3.111111111111111"
      ]
     },
     "execution_count": 27,
     "metadata": {},
     "output_type": "execute_result"
    }
   ],
   "source": [
    "get_variance(dados_impar)"
   ]
  },
  {
   "cell_type": "markdown",
   "id": "4a650f26",
   "metadata": {},
   "source": [
    "## Bibliotecas"
   ]
  },
  {
   "cell_type": "code",
   "execution_count": 24,
   "id": "28347dc2",
   "metadata": {},
   "outputs": [
    {
     "data": {
      "text/plain": [
       "3.111111111111111"
      ]
     },
     "execution_count": 24,
     "metadata": {},
     "output_type": "execute_result"
    }
   ],
   "source": [
    "# numpy\n",
    "dados_impar.var()"
   ]
  },
  {
   "cell_type": "code",
   "execution_count": 30,
   "id": "e4ce7261",
   "metadata": {},
   "outputs": [
    {
     "data": {
      "text/plain": [
       "3"
      ]
     },
     "execution_count": 30,
     "metadata": {},
     "output_type": "execute_result"
    }
   ],
   "source": [
    "# statistics\n",
    "statistics.variance(dados_impar)"
   ]
  },
  {
   "cell_type": "code",
   "execution_count": 33,
   "id": "89359336",
   "metadata": {},
   "outputs": [
    {
     "data": {
      "text/plain": [
       "3.111111111111111"
      ]
     },
     "execution_count": 33,
     "metadata": {},
     "output_type": "execute_result"
    }
   ],
   "source": [
    "# scipy\n",
    "ndimage.variance(dados_impar)"
   ]
  },
  {
   "cell_type": "code",
   "execution_count": null,
   "id": "89f5e068",
   "metadata": {},
   "outputs": [],
   "source": []
  }
 ],
 "metadata": {
  "kernelspec": {
   "display_name": "Python 3 (ipykernel)",
   "language": "python",
   "name": "python3"
  },
  "language_info": {
   "codemirror_mode": {
    "name": "ipython",
    "version": 3
   },
   "file_extension": ".py",
   "mimetype": "text/x-python",
   "name": "python",
   "nbconvert_exporter": "python",
   "pygments_lexer": "ipython3",
   "version": "3.9.7"
  }
 },
 "nbformat": 4,
 "nbformat_minor": 5
}

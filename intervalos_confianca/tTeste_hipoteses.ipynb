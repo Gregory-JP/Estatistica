{
 "cells": [
  {
   "cell_type": "code",
   "execution_count": 1,
   "id": "8992378c",
   "metadata": {},
   "outputs": [],
   "source": [
    "import numpy as np\n",
    "import math\n",
    "from scipy.stats import ttest_rel"
   ]
  },
  {
   "cell_type": "code",
   "execution_count": 3,
   "id": "cef48490",
   "metadata": {},
   "outputs": [],
   "source": [
    "dados_originais = np.array([149. , 160., 147., 189., 175., 168., 156., 160., 152.])"
   ]
  },
  {
   "cell_type": "code",
   "execution_count": 4,
   "id": "c05ee1b2",
   "metadata": {},
   "outputs": [
    {
     "data": {
      "text/plain": [
       "array([149., 160., 147., 189., 175., 168., 156., 160., 152.])"
      ]
     },
     "execution_count": 4,
     "metadata": {},
     "output_type": "execute_result"
    }
   ],
   "source": [
    "dados_originais"
   ]
  },
  {
   "cell_type": "code",
   "execution_count": 9,
   "id": "2bfeb62d",
   "metadata": {},
   "outputs": [
    {
     "data": {
      "text/plain": [
       "(161.77777777777777, 12.786953227391823)"
      ]
     },
     "execution_count": 9,
     "metadata": {},
     "output_type": "execute_result"
    }
   ],
   "source": [
    "dados_originais.mean(), np.std(dados_originais)"
   ]
  },
  {
   "cell_type": "code",
   "execution_count": 11,
   "id": "7fabfe76",
   "metadata": {},
   "outputs": [
    {
     "data": {
      "text/plain": [
       "array([151.98, 163.2 , 149.94, 192.78, 178.5 , 171.36, 159.12, 163.2 ,\n",
       "       155.04])"
      ]
     },
     "execution_count": 11,
     "metadata": {},
     "output_type": "execute_result"
    }
   ],
   "source": [
    "novos_dados = dados_originais * 1.02\n",
    "novos_dados"
   ]
  },
  {
   "cell_type": "code",
   "execution_count": 12,
   "id": "7832646f",
   "metadata": {},
   "outputs": [
    {
     "data": {
      "text/plain": [
       "(165.01333333333332, 13.042692291939664)"
      ]
     },
     "execution_count": 12,
     "metadata": {},
     "output_type": "execute_result"
    }
   ],
   "source": [
    "novos_dados.mean(), np.std(novos_dados)"
   ]
  },
  {
   "cell_type": "code",
   "execution_count": 13,
   "id": "f4c0cd86",
   "metadata": {},
   "outputs": [
    {
     "data": {
      "text/plain": [
       "4.072922493930298e-10"
      ]
     },
     "execution_count": 13,
     "metadata": {},
     "output_type": "execute_result"
    }
   ],
   "source": [
    "_, p = ttest_rel(dados_originais, novos_dados)\n",
    "p"
   ]
  },
  {
   "cell_type": "code",
   "execution_count": 14,
   "id": "fe7529a9",
   "metadata": {},
   "outputs": [],
   "source": [
    "alpha = 0.01"
   ]
  },
  {
   "cell_type": "code",
   "execution_count": 15,
   "id": "d9c06413",
   "metadata": {},
   "outputs": [
    {
     "name": "stdout",
     "output_type": "stream",
     "text": [
      "Hipótese nula rejeitada\n"
     ]
    }
   ],
   "source": [
    "if p <= alpha:\n",
    "    print('Hipótese nula rejeitada')\n",
    "else:\n",
    "    print('Hipótese alternativa rejeitada')"
   ]
  },
  {
   "cell_type": "code",
   "execution_count": null,
   "id": "0ad37faa",
   "metadata": {},
   "outputs": [],
   "source": []
  }
 ],
 "metadata": {
  "kernelspec": {
   "display_name": "Python 3 (ipykernel)",
   "language": "python",
   "name": "python3"
  },
  "language_info": {
   "codemirror_mode": {
    "name": "ipython",
    "version": 3
   },
   "file_extension": ".py",
   "mimetype": "text/x-python",
   "name": "python",
   "nbconvert_exporter": "python",
   "pygments_lexer": "ipython3",
   "version": "3.9.7"
  }
 },
 "nbformat": 4,
 "nbformat_minor": 5
}

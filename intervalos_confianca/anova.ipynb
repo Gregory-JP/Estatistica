{
 "cells": [
  {
   "cell_type": "markdown",
   "id": "0b2620aa",
   "metadata": {},
   "source": [
    "## Teste ANOVA"
   ]
  },
  {
   "cell_type": "code",
   "execution_count": 3,
   "id": "1afba1c8",
   "metadata": {},
   "outputs": [],
   "source": [
    "from scipy.stats import f\n",
    "import numpy as np"
   ]
  },
  {
   "cell_type": "code",
   "execution_count": 2,
   "id": "86d1fb9b",
   "metadata": {},
   "outputs": [],
   "source": [
    "grupoA = np.array([165, 152, 143, 140, 155])\n",
    "grupoB = np.array([130, 169, 164, 143, 154])\n",
    "grupoC = np.array([163, 158, 154, 149, 156])"
   ]
  },
  {
   "cell_type": "code",
   "execution_count": 6,
   "id": "78ca4ee2",
   "metadata": {},
   "outputs": [
    {
     "data": {
      "text/plain": [
       "3.8852938346523933"
      ]
     },
     "execution_count": 6,
     "metadata": {},
     "output_type": "execute_result"
    }
   ],
   "source": [
    "f.ppf(1 - 0.05, dfn=2, dfd=12)"
   ]
  },
  {
   "cell_type": "code",
   "execution_count": 7,
   "id": "2efb9512",
   "metadata": {},
   "outputs": [],
   "source": [
    "from scipy.stats import f_oneway # anova"
   ]
  },
  {
   "cell_type": "code",
   "execution_count": 10,
   "id": "bc4ec6c9",
   "metadata": {},
   "outputs": [
    {
     "data": {
      "text/plain": [
       "0.7613994386091956"
      ]
     },
     "execution_count": 10,
     "metadata": {},
     "output_type": "execute_result"
    }
   ],
   "source": [
    "_, p = f_oneway(grupoA, grupoB, grupoC)\n",
    "p"
   ]
  },
  {
   "cell_type": "code",
   "execution_count": 11,
   "id": "feeb5fad",
   "metadata": {},
   "outputs": [
    {
     "name": "stdout",
     "output_type": "stream",
     "text": [
      "Hipótese alternativa rejeitada\n"
     ]
    }
   ],
   "source": [
    "alpha = 0.05\n",
    "\n",
    "if p <= alpha:\n",
    "    prit('Hipótese nula rejeitada')\n",
    "else:\n",
    "    print('Hipótese alternativa rejeitada')"
   ]
  },
  {
   "cell_type": "code",
   "execution_count": 12,
   "id": "fc248947",
   "metadata": {},
   "outputs": [],
   "source": [
    "# não há diferença estatística entre o conjunto de dados"
   ]
  },
  {
   "cell_type": "markdown",
   "id": "264cf8dc",
   "metadata": {},
   "source": [
    "## Teste de Tukey"
   ]
  },
  {
   "cell_type": "code",
   "execution_count": 13,
   "id": "1d2d9df9",
   "metadata": {},
   "outputs": [],
   "source": [
    "# dados = {'valores': [165, 152, 143, 140, 155, 130, 169, 164, 143, 154, 163, 158, 154, 149, 156],\n",
    "#        'grupo': ['A', 'A', 'A', 'A', 'A', 'B', 'B', 'B', 'B', 'B', 'C', 'C', 'C', 'C', 'C']}"
   ]
  },
  {
   "cell_type": "code",
   "execution_count": 23,
   "id": "ae4bf550",
   "metadata": {},
   "outputs": [],
   "source": [
    "dados = {'valores': [70, 90, 80, 50, 20, 130, 169, 164, 143, 154, 163, 158, 154, 149, 156],\n",
    "        'grupo': ['A', 'A', 'A', 'A', 'A', 'B', 'B', 'B', 'B', 'B', 'C', 'C', 'C', 'C', 'C']}"
   ]
  },
  {
   "cell_type": "code",
   "execution_count": 24,
   "id": "c8383b85",
   "metadata": {},
   "outputs": [
    {
     "data": {
      "text/html": [
       "<div>\n",
       "<style scoped>\n",
       "    .dataframe tbody tr th:only-of-type {\n",
       "        vertical-align: middle;\n",
       "    }\n",
       "\n",
       "    .dataframe tbody tr th {\n",
       "        vertical-align: top;\n",
       "    }\n",
       "\n",
       "    .dataframe thead th {\n",
       "        text-align: right;\n",
       "    }\n",
       "</style>\n",
       "<table border=\"1\" class=\"dataframe\">\n",
       "  <thead>\n",
       "    <tr style=\"text-align: right;\">\n",
       "      <th></th>\n",
       "      <th>valores</th>\n",
       "      <th>grupo</th>\n",
       "    </tr>\n",
       "  </thead>\n",
       "  <tbody>\n",
       "    <tr>\n",
       "      <th>0</th>\n",
       "      <td>70</td>\n",
       "      <td>A</td>\n",
       "    </tr>\n",
       "    <tr>\n",
       "      <th>1</th>\n",
       "      <td>90</td>\n",
       "      <td>A</td>\n",
       "    </tr>\n",
       "    <tr>\n",
       "      <th>2</th>\n",
       "      <td>80</td>\n",
       "      <td>A</td>\n",
       "    </tr>\n",
       "    <tr>\n",
       "      <th>3</th>\n",
       "      <td>50</td>\n",
       "      <td>A</td>\n",
       "    </tr>\n",
       "    <tr>\n",
       "      <th>4</th>\n",
       "      <td>20</td>\n",
       "      <td>A</td>\n",
       "    </tr>\n",
       "  </tbody>\n",
       "</table>\n",
       "</div>"
      ],
      "text/plain": [
       "   valores grupo\n",
       "0       70     A\n",
       "1       90     A\n",
       "2       80     A\n",
       "3       50     A\n",
       "4       20     A"
      ]
     },
     "execution_count": 24,
     "metadata": {},
     "output_type": "execute_result"
    }
   ],
   "source": [
    "import pandas as pd\n",
    "\n",
    "data = pd.DataFrame(dados)\n",
    "data.head()"
   ]
  },
  {
   "cell_type": "code",
   "execution_count": 18,
   "id": "baa00155",
   "metadata": {},
   "outputs": [],
   "source": [
    "from statsmodels.stats.multicomp import MultiComparison"
   ]
  },
  {
   "cell_type": "code",
   "execution_count": 25,
   "id": "6426fbd6",
   "metadata": {},
   "outputs": [],
   "source": [
    "compara_grupos = MultiComparison(data['valores'], data['grupo'])"
   ]
  },
  {
   "cell_type": "code",
   "execution_count": 26,
   "id": "eef0a691",
   "metadata": {},
   "outputs": [
    {
     "name": "stdout",
     "output_type": "stream",
     "text": [
      " Multiple Comparison of Means - Tukey HSD, FWER=0.05  \n",
      "======================================================\n",
      "group1 group2 meandiff p-adj   lower    upper   reject\n",
      "------------------------------------------------------\n",
      "     A      B     90.0    0.0  58.4785 121.5215   True\n",
      "     A      C     94.0    0.0  62.4785 125.5215   True\n",
      "     B      C      4.0 0.9391 -27.5215  35.5215  False\n",
      "------------------------------------------------------\n"
     ]
    }
   ],
   "source": [
    "teste = compara_grupos.tukeyhsd()\n",
    "print(teste)"
   ]
  },
  {
   "cell_type": "code",
   "execution_count": 27,
   "id": "56a7ab3c",
   "metadata": {},
   "outputs": [
    {
     "data": {
      "image/png": "[encoded data removed]",
      "text/plain": [
       "<Figure size 720x432 with 1 Axes>"
      ]
     },
     "metadata": {
      "needs_background": "light"
     },
     "output_type": "display_data"
    }
   ],
   "source": [
    "teste.plot_simultaneous();"
   ]
  },
  {
   "cell_type": "code",
   "execution_count": null,
   "id": "f9a9a6e7",
   "metadata": {},
   "outputs": [],
   "source": []
  }
 ],
 "metadata": {
  "kernelspec": {
   "display_name": "Python 3 (ipykernel)",
   "language": "python",
   "name": "python3"
  },
  "language_info": {
   "codemirror_mode": {
    "name": "ipython",
    "version": 3
   },
   "file_extension": ".py",
   "mimetype": "text/x-python",
   "name": "python",
   "nbconvert_exporter": "python",
   "pygments_lexer": "ipython3",
   "version": "3.9.7"
  }
 },
 "nbformat": 4,
 "nbformat_minor": 5
}

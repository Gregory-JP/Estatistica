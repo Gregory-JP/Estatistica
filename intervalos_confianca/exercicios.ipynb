{
 "cells": [
  {
   "cell_type": "code",
   "execution_count": 12,
   "id": "2925cc65",
   "metadata": {},
   "outputs": [],
   "source": [
    "import numpy as np\n",
    "from scipy.stats import norm\n",
    "from scipy import stats"
   ]
  },
  {
   "cell_type": "code",
   "execution_count": 13,
   "id": "af071172",
   "metadata": {},
   "outputs": [],
   "source": [
    "dados_salario = np.array([82.1191, 72.8014, 79.1266, 71.3552, 59.192 , 79.1952, 56.518 ,\n",
    "                          70.3752, 73.5364, 61.0407, 64.3902, 66.4076, 63.5215, 71.9936,\n",
    "                          60.1489, 78.5932, 76.0459, 67.7726, 64.6149, 80.1948, 76.7998,\n",
    "                          76.1831, 80.7065, 62.4953, 57.204 , 62.5408, 80.0982, 63.287 ,\n",
    "                          66.5826, 79.3674])"
   ]
  },
  {
   "cell_type": "code",
   "execution_count": 14,
   "id": "8617b52f",
   "metadata": {},
   "outputs": [
    {
     "data": {
      "text/plain": [
       "70.14025666666666"
      ]
     },
     "execution_count": 14,
     "metadata": {},
     "output_type": "execute_result"
    }
   ],
   "source": [
    "media = np.mean(dados_salario)\n",
    "media"
   ]
  },
  {
   "cell_type": "code",
   "execution_count": 15,
   "id": "a6a6ab41",
   "metadata": {},
   "outputs": [
    {
     "data": {
      "text/plain": [
       "7.899834598255137"
      ]
     },
     "execution_count": 15,
     "metadata": {},
     "output_type": "execute_result"
    }
   ],
   "source": [
    "desvio_padrao = np.std(dados_salario)\n",
    "desvio_padrao"
   ]
  },
  {
   "cell_type": "code",
   "execution_count": 16,
   "id": "8c047edc",
   "metadata": {},
   "outputs": [
    {
     "data": {
      "text/plain": [
       "(67.26506308375339, 73.01545024957993)"
      ]
     },
     "execution_count": 16,
     "metadata": {},
     "output_type": "execute_result"
    }
   ],
   "source": [
    "intervalos = norm.interval(0.95, media, stats.sem(dados_salario))\n",
    "intervalos"
   ]
  },
  {
   "cell_type": "code",
   "execution_count": 17,
   "id": "9af38eec",
   "metadata": {},
   "outputs": [],
   "source": [
    "# temos 95% de confiança de que a média salarial das pessoas está no intervalo entre 67.26 e 73.81"
   ]
  },
  {
   "cell_type": "code",
   "execution_count": null,
   "id": "7e5c878e",
   "metadata": {},
   "outputs": [],
   "source": []
  }
 ],
 "metadata": {
  "kernelspec": {
   "display_name": "Python 3 (ipykernel)",
   "language": "python",
   "name": "python3"
  },
  "language_info": {
   "codemirror_mode": {
    "name": "ipython",
    "version": 3
   },
   "file_extension": ".py",
   "mimetype": "text/x-python",
   "name": "python",
   "nbconvert_exporter": "python",
   "pygments_lexer": "ipython3",
   "version": "3.9.7"
  }
 },
 "nbformat": 4,
 "nbformat_minor": 5
}

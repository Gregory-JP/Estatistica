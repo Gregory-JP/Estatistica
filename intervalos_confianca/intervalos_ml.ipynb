{
 "cells": [
  {
   "cell_type": "code",
   "execution_count": 16,
   "id": "e0390198",
   "metadata": {},
   "outputs": [],
   "source": [
    "import pandas as pd\n",
    "import numpy as np\n",
    "from scipy import stats\n",
    "from sklearn.model_selection import train_test_split\n",
    "from sklearn.naive_bayes import GaussianNB\n",
    "from sklearn.linear_model import LogisticRegression\n",
    "from sklearn.ensemble import RandomForestClassifier\n",
    "from sklearn.metrics import accuracy_score\n",
    "from sklearn.model_selection import cross_val_score, KFold"
   ]
  },
  {
   "cell_type": "code",
   "execution_count": 3,
   "id": "165c3198",
   "metadata": {},
   "outputs": [
    {
     "data": {
      "text/html": [
       "<div>\n",
       "<style scoped>\n",
       "    .dataframe tbody tr th:only-of-type {\n",
       "        vertical-align: middle;\n",
       "    }\n",
       "\n",
       "    .dataframe tbody tr th {\n",
       "        vertical-align: top;\n",
       "    }\n",
       "\n",
       "    .dataframe thead th {\n",
       "        text-align: right;\n",
       "    }\n",
       "</style>\n",
       "<table border=\"1\" class=\"dataframe\">\n",
       "  <thead>\n",
       "    <tr style=\"text-align: right;\">\n",
       "      <th></th>\n",
       "      <th>i#clientid</th>\n",
       "      <th>income</th>\n",
       "      <th>age</th>\n",
       "      <th>loan</th>\n",
       "      <th>c#default</th>\n",
       "    </tr>\n",
       "  </thead>\n",
       "  <tbody>\n",
       "    <tr>\n",
       "      <th>0</th>\n",
       "      <td>1</td>\n",
       "      <td>66155.925095</td>\n",
       "      <td>59.017015</td>\n",
       "      <td>8106.532131</td>\n",
       "      <td>0</td>\n",
       "    </tr>\n",
       "    <tr>\n",
       "      <th>1</th>\n",
       "      <td>2</td>\n",
       "      <td>34415.153966</td>\n",
       "      <td>48.117153</td>\n",
       "      <td>6564.745018</td>\n",
       "      <td>0</td>\n",
       "    </tr>\n",
       "    <tr>\n",
       "      <th>2</th>\n",
       "      <td>3</td>\n",
       "      <td>57317.170063</td>\n",
       "      <td>63.108049</td>\n",
       "      <td>8020.953296</td>\n",
       "      <td>0</td>\n",
       "    </tr>\n",
       "    <tr>\n",
       "      <th>3</th>\n",
       "      <td>4</td>\n",
       "      <td>42709.534201</td>\n",
       "      <td>45.751972</td>\n",
       "      <td>6103.642260</td>\n",
       "      <td>0</td>\n",
       "    </tr>\n",
       "    <tr>\n",
       "      <th>4</th>\n",
       "      <td>5</td>\n",
       "      <td>66952.688845</td>\n",
       "      <td>18.584336</td>\n",
       "      <td>8770.099235</td>\n",
       "      <td>1</td>\n",
       "    </tr>\n",
       "  </tbody>\n",
       "</table>\n",
       "</div>"
      ],
      "text/plain": [
       "   i#clientid        income        age         loan  c#default\n",
       "0           1  66155.925095  59.017015  8106.532131          0\n",
       "1           2  34415.153966  48.117153  6564.745018          0\n",
       "2           3  57317.170063  63.108049  8020.953296          0\n",
       "3           4  42709.534201  45.751972  6103.642260          0\n",
       "4           5  66952.688845  18.584336  8770.099235          1"
      ]
     },
     "execution_count": 3,
     "metadata": {},
     "output_type": "execute_result"
    }
   ],
   "source": [
    "df = pd.read_csv('../bases_dados/credit_data.csv')\n",
    "df.dropna(inplace=True)\n",
    "df.head()"
   ]
  },
  {
   "cell_type": "code",
   "execution_count": 4,
   "id": "4b5f9c54",
   "metadata": {},
   "outputs": [
    {
     "data": {
      "text/plain": [
       "array([[6.61559251e+04, 5.90170151e+01, 8.10653213e+03],\n",
       "       [3.44151540e+04, 4.81171531e+01, 6.56474502e+03],\n",
       "       [5.73171701e+04, 6.31080495e+01, 8.02095330e+03],\n",
       "       ...,\n",
       "       [4.43114493e+04, 2.80171669e+01, 5.52278669e+03],\n",
       "       [4.37560566e+04, 6.39717958e+01, 1.62272260e+03],\n",
       "       [6.94365796e+04, 5.61526170e+01, 7.37883360e+03]])"
      ]
     },
     "execution_count": 4,
     "metadata": {},
     "output_type": "execute_result"
    }
   ],
   "source": [
    "x = df.iloc[:, 1:4].values\n",
    "x"
   ]
  },
  {
   "cell_type": "code",
   "execution_count": 5,
   "id": "10287344",
   "metadata": {},
   "outputs": [
    {
     "data": {
      "text/plain": [
       "array([0, 0, 0, ..., 1, 0, 0], dtype=int64)"
      ]
     },
     "execution_count": 5,
     "metadata": {},
     "output_type": "execute_result"
    }
   ],
   "source": [
    "y = df.iloc[:, 4].values\n",
    "y"
   ]
  },
  {
   "cell_type": "code",
   "execution_count": 7,
   "id": "38c74d2c",
   "metadata": {},
   "outputs": [],
   "source": [
    "resultadosCV_bayes = []\n",
    "resultadosCV_bayes300 = []\n",
    "resultadosCV_logistica = []\n",
    "resultadosCV_logistica300 = []\n",
    "resultadosCV_arvores = []\n",
    "resultadosCV_arvores300 = []\n",
    "\n",
    "for i in range(30):\n",
    "    kfold = KFold(n_splits=10, shuffle=True, random_state=i)\n",
    "    \n",
    "    naive_bayes = GaussianNB()\n",
    "    scores = cross_val_score(naive_bayes, x, y, cv=kfold)\n",
    "    resultadosCV_bayes300.append(scores)\n",
    "    resultadosCV_bayes.append(scores.mean())\n",
    "    \n",
    "    logistica = LogisticRegression()\n",
    "    scores = cross_val_score(logistica, x, y, cv=kfold)\n",
    "    resultadosCV_logistica300.append(scores)\n",
    "    resultadosCV_logistica.append(scores.mean())\n",
    "    \n",
    "    floresta = RandomForestClassifier()\n",
    "    scores = cross_val_score(floresta, x, y, cv=kfold)\n",
    "    resultadosCV_arvores300.append(scores)\n",
    "    resultadosCV_arvores.append(scores.mean())"
   ]
  },
  {
   "cell_type": "code",
   "execution_count": 8,
   "id": "dd32e60a",
   "metadata": {},
   "outputs": [
    {
     "data": {
      "text/plain": [
       "(30, 30)"
      ]
     },
     "execution_count": 8,
     "metadata": {},
     "output_type": "execute_result"
    }
   ],
   "source": [
    "len(resultadosCV_logistica), len(resultadosCV_logistica300)"
   ]
  },
  {
   "cell_type": "code",
   "execution_count": 11,
   "id": "e7464079",
   "metadata": {},
   "outputs": [
    {
     "name": "stdout",
     "output_type": "stream",
     "text": [
      "0.9263844221105527\n"
     ]
    }
   ],
   "source": [
    "print(max(resultadosCV_bayes))"
   ]
  },
  {
   "cell_type": "code",
   "execution_count": 15,
   "id": "8770cc87",
   "metadata": {},
   "outputs": [
    {
     "name": "stdout",
     "output_type": "stream",
     "text": [
      "[array([0.91      , 0.93      , 0.96      , 0.925     , 0.94      ,\n",
      "       0.895     , 0.965     , 0.89949749, 0.87939698, 0.94472362]), array([0.92      , 0.945     , 0.895     , 0.92      , 0.915     ,\n",
      "       0.93      , 0.89      , 0.94974874, 0.93467337, 0.94974874]), array([0.93      , 0.89      , 0.94      , 0.935     , 0.905     ,\n",
      "       0.935     , 0.935     , 0.91959799, 0.94472362, 0.91457286]), array([0.91      , 0.945     , 0.95      , 0.94      , 0.92      ,\n",
      "       0.9       , 0.9       , 0.90954774, 0.91959799, 0.93467337]), array([0.96      , 0.93      , 0.94      , 0.905     , 0.935     ,\n",
      "       0.93      , 0.905     , 0.90452261, 0.89949749, 0.93969849]), array([0.915     , 0.91      , 0.945     , 0.945     , 0.9       ,\n",
      "       0.935     , 0.925     , 0.96482412, 0.89949749, 0.91457286]), array([0.955     , 0.935     , 0.915     , 0.94      , 0.905     ,\n",
      "       0.9       , 0.925     , 0.92462312, 0.92462312, 0.91959799]), array([0.94      , 0.92      , 0.925     , 0.915     , 0.905     ,\n",
      "       0.935     , 0.93      , 0.91457286, 0.92462312, 0.93969849]), array([0.915     , 0.93      , 0.905     , 0.94      , 0.935     ,\n",
      "       0.955     , 0.925     , 0.91457286, 0.91457286, 0.91457286]), array([0.895     , 0.885     , 0.925     , 0.935     , 0.955     ,\n",
      "       0.935     , 0.93      , 0.92964824, 0.91959799, 0.92964824]), array([0.92      , 0.93      , 0.935     , 0.95      , 0.905     ,\n",
      "       0.905     , 0.94      , 0.91959799, 0.89949749, 0.94974874]), array([0.945     , 0.92      , 0.925     , 0.89      , 0.935     ,\n",
      "       0.9       , 0.925     , 0.92462312, 0.94472362, 0.93467337]), array([0.93      , 0.92      , 0.93      , 0.945     , 0.935     ,\n",
      "       0.93      , 0.915     , 0.92964824, 0.91457286, 0.90452261]), array([0.91      , 0.94      , 0.93      , 0.88      , 0.945     ,\n",
      "       0.9       , 0.95      , 0.93969849, 0.93467337, 0.91457286]), array([0.92      , 0.915     , 0.945     , 0.935     , 0.885     ,\n",
      "       0.945     , 0.935     , 0.93467337, 0.92462312, 0.91457286]), array([0.9       , 0.95      , 0.955     , 0.895     , 0.96      ,\n",
      "       0.935     , 0.89      , 0.90452261, 0.91959799, 0.93969849]), array([0.925     , 0.92      , 0.94      , 0.93      , 0.935     ,\n",
      "       0.93      , 0.91      , 0.90954774, 0.90954774, 0.94974874]), array([0.95      , 0.93      , 0.94      , 0.935     , 0.9       ,\n",
      "       0.895     , 0.91      , 0.94472362, 0.90954774, 0.93467337]), array([0.925     , 0.92      , 0.92      , 0.935     , 0.905     ,\n",
      "       0.94      , 0.93      , 0.91457286, 0.91457286, 0.93467337]), array([0.94      , 0.925     , 0.905     , 0.96      , 0.915     ,\n",
      "       0.915     , 0.93      , 0.90954774, 0.94974874, 0.90954774]), array([0.895     , 0.9       , 0.94      , 0.9       , 0.94      ,\n",
      "       0.935     , 0.96      , 0.89949749, 0.93467337, 0.95477387]), array([0.93      , 0.94      , 0.915     , 0.955     , 0.925     ,\n",
      "       0.9       , 0.91      , 0.89447236, 0.92462312, 0.95979899]), array([0.945     , 0.9       , 0.93      , 0.95      , 0.945     ,\n",
      "       0.93      , 0.915     , 0.91457286, 0.88944724, 0.92462312]), array([0.92      , 0.925     , 0.925     , 0.94      , 0.915     ,\n",
      "       0.91      , 0.96      , 0.94974874, 0.89949749, 0.91959799]), array([0.91      , 0.92      , 0.925     , 0.895     , 0.925     ,\n",
      "       0.92      , 0.945     , 0.92964824, 0.90954774, 0.94974874]), array([0.92      , 0.925     , 0.91      , 0.93      , 0.905     ,\n",
      "       0.945     , 0.94      , 0.92462312, 0.92964824, 0.92462312]), array([0.935     , 0.91      , 0.93      , 0.96      , 0.9       ,\n",
      "       0.91      , 0.93      , 0.91457286, 0.93969849, 0.91959799]), array([0.95      , 0.91      , 0.915     , 0.905     , 0.925     ,\n",
      "       0.93      , 0.935     , 0.92462312, 0.91959799, 0.93969849]), array([0.94      , 0.915     , 0.945     , 0.925     , 0.93      ,\n",
      "       0.92      , 0.915     , 0.90452261, 0.90954774, 0.94974874]), array([0.935     , 0.92      , 0.91      , 0.925     , 0.91      ,\n",
      "       0.93      , 0.96      , 0.91457286, 0.92964824, 0.92462312])]\n"
     ]
    }
   ],
   "source": [
    "print(resultadosCV_bayes300)"
   ]
  },
  {
   "cell_type": "code",
   "execution_count": 17,
   "id": "51aa5995",
   "metadata": {},
   "outputs": [
    {
     "data": {
      "text/plain": [
       "(30, 10)"
      ]
     },
     "execution_count": 17,
     "metadata": {},
     "output_type": "execute_result"
    }
   ],
   "source": [
    "np.array(resultadosCV_arvores300).shape"
   ]
  },
  {
   "cell_type": "code",
   "execution_count": 23,
   "id": "8d1c3b51",
   "metadata": {},
   "outputs": [],
   "source": [
    "resultadosCV_bayes = np.array(resultadosCV_bayes)\n",
    "resultadosCV_bayes300 = np.array(np.asarray(resultadosCV_bayes300).reshape(-1))\n",
    "\n",
    "resultadosCV_logistica = np.array(resultadosCV_logistica)\n",
    "resultadosCV_logistica300 = np.array(np.asarray(resultadosCV_logistica300).reshape(-1))\n",
    "\n",
    "resultadosCV_arvores = np.array(resultadosCV_arvores)\n",
    "resultadosCV_arvores300 = np.array(np.asarray(resultadosCV_arvores300).reshape(-1))"
   ]
  },
  {
   "cell_type": "code",
   "execution_count": 24,
   "id": "d3ff2eab",
   "metadata": {},
   "outputs": [],
   "source": [
    "import seaborn as sns"
   ]
  },
  {
   "cell_type": "code",
   "execution_count": 25,
   "id": "6566d315",
   "metadata": {},
   "outputs": [
    {
     "data": {
      "text/plain": [
       "(300,)"
      ]
     },
     "execution_count": 25,
     "metadata": {},
     "output_type": "execute_result"
    }
   ],
   "source": [
    "resultadosCV_bayes300.shape"
   ]
  },
  {
   "cell_type": "code",
   "execution_count": 28,
   "id": "33e0ccf1",
   "metadata": {},
   "outputs": [
    {
     "data": {
      "image/png": "[encoded data removed]",
      "text/plain": [
       "<Figure size 360x360 with 1 Axes>"
      ]
     },
     "metadata": {
      "needs_background": "light"
     },
     "output_type": "display_data"
    }
   ],
   "source": [
    "sns.displot(resultadosCV_bayes);"
   ]
  },
  {
   "cell_type": "code",
   "execution_count": 27,
   "id": "8d7f1c5f",
   "metadata": {},
   "outputs": [
    {
     "data": {
      "image/png": "[encoded data removed]",
      "text/plain": [
       "<Figure size 360x360 with 1 Axes>"
      ]
     },
     "metadata": {
      "needs_background": "light"
     },
     "output_type": "display_data"
    }
   ],
   "source": [
    "sns.displot(resultadosCV_bayes300);"
   ]
  },
  {
   "cell_type": "code",
   "execution_count": 29,
   "id": "b60c5988",
   "metadata": {},
   "outputs": [
    {
     "data": {
      "image/png": "[encoded data removed]",
      "text/plain": [
       "<Figure size 360x360 with 1 Axes>"
      ]
     },
     "metadata": {
      "needs_background": "light"
     },
     "output_type": "display_data"
    }
   ],
   "source": [
    "sns.displot(resultadosCV_logistica);"
   ]
  },
  {
   "cell_type": "code",
   "execution_count": 30,
   "id": "8eeea5eb",
   "metadata": {},
   "outputs": [
    {
     "data": {
      "image/png": "[encoded data removed]",
      "text/plain": [
       "<Figure size 360x360 with 1 Axes>"
      ]
     },
     "metadata": {
      "needs_background": "light"
     },
     "output_type": "display_data"
    }
   ],
   "source": [
    "sns.displot(resultadosCV_logistica300);"
   ]
  },
  {
   "cell_type": "code",
   "execution_count": 31,
   "id": "30f5702e",
   "metadata": {},
   "outputs": [
    {
     "data": {
      "image/png": "[encoded data removed]",
      "text/plain": [
       "<Figure size 360x360 with 1 Axes>"
      ]
     },
     "metadata": {
      "needs_background": "light"
     },
     "output_type": "display_data"
    }
   ],
   "source": [
    "sns.displot(resultadosCV_arvores);"
   ]
  },
  {
   "cell_type": "code",
   "execution_count": 34,
   "id": "882c1601",
   "metadata": {},
   "outputs": [
    {
     "data": {
      "image/png": "[encoded data removed]",
      "text/plain": [
       "<Figure size 360x360 with 1 Axes>"
      ]
     },
     "metadata": {
      "needs_background": "light"
     },
     "output_type": "display_data"
    }
   ],
   "source": [
    "sns.displot(resultadosCV_arvores300, bins=6);"
   ]
  },
  {
   "cell_type": "code",
   "execution_count": 35,
   "id": "0c9453e4",
   "metadata": {},
   "outputs": [
    {
     "data": {
      "text/plain": [
       "(0.9249359296482411, 0.9137817420435511, 0.9867969849246232)"
      ]
     },
     "execution_count": 35,
     "metadata": {},
     "output_type": "execute_result"
    }
   ],
   "source": [
    "resultadosCV_bayes.mean(), resultadosCV_logistica.mean(), resultadosCV_arvores.mean()"
   ]
  },
  {
   "cell_type": "code",
   "execution_count": 37,
   "id": "25fd5ca1",
   "metadata": {},
   "outputs": [
    {
     "data": {
      "text/plain": [
       "0.08641071566366061"
      ]
     },
     "execution_count": 37,
     "metadata": {},
     "output_type": "execute_result"
    }
   ],
   "source": [
    "stats.variation(resultadosCV_bayes) * 100"
   ]
  },
  {
   "cell_type": "code",
   "execution_count": 38,
   "id": "c4946a96",
   "metadata": {},
   "outputs": [
    {
     "data": {
      "text/plain": [
       "0.38801026116292653"
      ]
     },
     "execution_count": 38,
     "metadata": {},
     "output_type": "execute_result"
    }
   ],
   "source": [
    "stats.variation(resultadosCV_logistica) * 100"
   ]
  },
  {
   "cell_type": "code",
   "execution_count": 39,
   "id": "6f78a7da",
   "metadata": {},
   "outputs": [
    {
     "data": {
      "text/plain": [
       "0.15419901935329602"
      ]
     },
     "execution_count": 39,
     "metadata": {},
     "output_type": "execute_result"
    }
   ],
   "source": [
    "stats.variation(resultadosCV_arvores) * 100"
   ]
  },
  {
   "cell_type": "markdown",
   "id": "d6cdd586",
   "metadata": {},
   "source": [
    "## Intervalos de confiança"
   ]
  },
  {
   "cell_type": "code",
   "execution_count": 40,
   "id": "1a1a66bd",
   "metadata": {},
   "outputs": [],
   "source": [
    "from scipy.stats import t\n",
    "from scipy.stats import norm"
   ]
  },
  {
   "cell_type": "markdown",
   "id": "bf1eed64",
   "metadata": {},
   "source": [
    "### Naive Bayes"
   ]
  },
  {
   "cell_type": "code",
   "execution_count": 41,
   "id": "6162ca57",
   "metadata": {},
   "outputs": [
    {
     "data": {
      "text/plain": [
       "(0.9246374871248957, 0.9252343721715865)"
      ]
     },
     "execution_count": 41,
     "metadata": {},
     "output_type": "execute_result"
    }
   ],
   "source": [
    "intervaloT_naive = t.interval(0.95, len(resultadosCV_bayes) - 1,\n",
    "                             resultadosCV_bayes.mean(),\n",
    "                             stats.sem(resultadosCV_bayes, ddof=0))\n",
    "intervaloT_naive"
   ]
  },
  {
   "cell_type": "code",
   "execution_count": 42,
   "id": "23c498db",
   "metadata": {},
   "outputs": [
    {
     "data": {
      "text/plain": [
       "0.0002984425233454324"
      ]
     },
     "execution_count": 42,
     "metadata": {},
     "output_type": "execute_result"
    }
   ],
   "source": [
    "abs(resultadosCV_bayes.mean() - intervaloT_naive[1])"
   ]
  },
  {
   "cell_type": "code",
   "execution_count": 49,
   "id": "4f43743d",
   "metadata": {},
   "outputs": [
    {
     "data": {
      "text/plain": [
       "(0.9229333893644709, 0.9269384699320113)"
      ]
     },
     "execution_count": 49,
     "metadata": {},
     "output_type": "execute_result"
    }
   ],
   "source": [
    "intervalosN_naive = norm.interval(0.95, resultadosCV_bayes300.mean(), \n",
    "                                         stats.sem(resultadosCV_bayes300))\n",
    "\n",
    "intervalosN_naive"
   ]
  },
  {
   "cell_type": "code",
   "execution_count": 51,
   "id": "c7c826b7",
   "metadata": {},
   "outputs": [
    {
     "data": {
      "text/plain": [
       "0.0020025402837702266"
      ]
     },
     "execution_count": 51,
     "metadata": {},
     "output_type": "execute_result"
    }
   ],
   "source": [
    "abs(resultadosCV_arvores300.mean() - intervalosN_naive[1])"
   ]
  },
  {
   "cell_type": "markdown",
   "id": "d3648a8c",
   "metadata": {},
   "source": [
    "### Regressão Logística"
   ]
  },
  {
   "cell_type": "code",
   "execution_count": 43,
   "id": "e42266b2",
   "metadata": {},
   "outputs": [
    {
     "data": {
      "text/plain": [
       "(0.9124578055959317, 0.9151056784911705)"
      ]
     },
     "execution_count": 43,
     "metadata": {},
     "output_type": "execute_result"
    }
   ],
   "source": [
    "intervalosT_logistica = t.interval(0.95, len(resultadosCV_logistica) - 1,\n",
    "                                  resultadosCV_logistica.mean(),\n",
    "                                  stats.sem(resultadosCV_logistica, ddof=0))\n",
    "intervalosT_logistica"
   ]
  },
  {
   "cell_type": "code",
   "execution_count": 45,
   "id": "0be81d78",
   "metadata": {},
   "outputs": [
    {
     "data": {
      "text/plain": [
       "0.0013239364476194115"
      ]
     },
     "execution_count": 45,
     "metadata": {},
     "output_type": "execute_result"
    }
   ],
   "source": [
    "abs(resultadosCV_logistica.mean() - intervalosT_logistica[1])"
   ]
  },
  {
   "cell_type": "code",
   "execution_count": 52,
   "id": "db7249c4",
   "metadata": {},
   "outputs": [
    {
     "data": {
      "text/plain": [
       "(0.9114192660020396, 0.9161442180850629)"
      ]
     },
     "execution_count": 52,
     "metadata": {},
     "output_type": "execute_result"
    }
   ],
   "source": [
    "intervalosN_logistica = norm.interval(0.95, resultadosCV_logistica300.mean(), \n",
    "                                       stats.sem(resultadosCV_logistica300))\n",
    "\n",
    "intervalosN_logistica"
   ]
  },
  {
   "cell_type": "code",
   "execution_count": 53,
   "id": "79b42c23",
   "metadata": {},
   "outputs": [
    {
     "data": {
      "text/plain": [
       "0.0023624760415116297"
      ]
     },
     "execution_count": 53,
     "metadata": {},
     "output_type": "execute_result"
    }
   ],
   "source": [
    "abs(resultadosCV_logistica300.mean() - intervalosN_logistica[1])"
   ]
  },
  {
   "cell_type": "markdown",
   "id": "540d3778",
   "metadata": {},
   "source": [
    "### Random Forest"
   ]
  },
  {
   "cell_type": "code",
   "execution_count": 46,
   "id": "6b962c15",
   "metadata": {},
   "outputs": [
    {
     "data": {
      "text/plain": [
       "(0.9862287984691176, 0.9873651713801288)"
      ]
     },
     "execution_count": 46,
     "metadata": {},
     "output_type": "execute_result"
    }
   ],
   "source": [
    "intervalosT_floresta = t.interval(0.95, len(resultadosCV_arvores) - 1,\n",
    "                                 resultadosCV_arvores.mean(),\n",
    "                                 stats.sem(resultadosCV_arvores, ddof=0))\n",
    "intervalosT_floresta"
   ]
  },
  {
   "cell_type": "code",
   "execution_count": 48,
   "id": "651447fa",
   "metadata": {},
   "outputs": [
    {
     "data": {
      "text/plain": [
       "0.0005681864555056038"
      ]
     },
     "execution_count": 48,
     "metadata": {},
     "output_type": "execute_result"
    }
   ],
   "source": [
    "abs(resultadosCV_arvores.mean() - intervalosT_floresta[1])"
   ]
  },
  {
   "cell_type": "code",
   "execution_count": 59,
   "id": "3b1f88a8",
   "metadata": {},
   "outputs": [
    {
     "data": {
      "text/plain": [
       "(0.9229333893644709, 0.9269384699320113)"
      ]
     },
     "execution_count": 59,
     "metadata": {},
     "output_type": "execute_result"
    }
   ],
   "source": [
    "intervalosN_floresta = norm.interval(0.95, resultadosCV_arvores300.mean(), \n",
    "                                    stats.sem(resultadosCV_arvores300))\n",
    "\n",
    "intervalosN_floresta"
   ]
  },
  {
   "cell_type": "code",
   "execution_count": 60,
   "id": "c542b67a",
   "metadata": {},
   "outputs": [
    {
     "data": {
      "text/plain": [
       "0.0020025402837702266"
      ]
     },
     "execution_count": 60,
     "metadata": {},
     "output_type": "execute_result"
    }
   ],
   "source": [
    "abs(resultadosCV_arvores300.mean() - intervalosN_floresta[1])"
   ]
  },
  {
   "cell_type": "markdown",
   "id": "288a674f",
   "metadata": {},
   "source": [
    "**Temos 95% de confiança de que a média de acertos do Random Forest está\n",
    "no intervalo entre 98,63% e 98,74% - 92,30% e 92,70%**"
   ]
  },
  {
   "cell_type": "code",
   "execution_count": 62,
   "id": "5c4b7668",
   "metadata": {},
   "outputs": [
    {
     "name": "stdout",
     "output_type": "stream",
     "text": [
      "0.9869798994974875\n"
     ]
    }
   ],
   "source": [
    "kfold = KFold(n_splits = 10, shuffle = True)\n",
    "\n",
    "random_forest = RandomForestClassifier()\n",
    "scores = cross_val_score(random_forest, x, y, cv = kfold)\n",
    "\n",
    "print(scores.mean())"
   ]
  },
  {
   "cell_type": "code",
   "execution_count": 63,
   "id": "42249ebb",
   "metadata": {},
   "outputs": [
    {
     "name": "stdout",
     "output_type": "stream",
     "text": [
      "[0.98       0.99       0.98       0.995      0.985      0.985\n",
      " 0.995      0.99497487 0.98994975 0.97487437]\n"
     ]
    }
   ],
   "source": [
    "print(scores)"
   ]
  },
  {
   "cell_type": "code",
   "execution_count": null,
   "id": "3eeaf7eb",
   "metadata": {},
   "outputs": [],
   "source": []
  }
 ],
 "metadata": {
  "kernelspec": {
   "display_name": "Python 3 (ipykernel)",
   "language": "python",
   "name": "python3"
  },
  "language_info": {
   "codemirror_mode": {
    "name": "ipython",
    "version": 3
   },
   "file_extension": ".py",
   "mimetype": "text/x-python",
   "name": "python",
   "nbconvert_exporter": "python",
   "pygments_lexer": "ipython3",
   "version": "3.9.7"
  }
 },
 "nbformat": 4,
 "nbformat_minor": 5
}

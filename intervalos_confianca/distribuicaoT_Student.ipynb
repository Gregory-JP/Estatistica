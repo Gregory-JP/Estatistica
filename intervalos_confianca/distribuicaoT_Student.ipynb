{
 "cells": [
  {
   "cell_type": "code",
   "execution_count": 8,
   "id": "32345705",
   "metadata": {},
   "outputs": [],
   "source": [
    "from scipy.stats import t\n",
    "from scipy import stats\n",
    "import numpy as np"
   ]
  },
  {
   "cell_type": "code",
   "execution_count": 2,
   "id": "d1b89f93",
   "metadata": {},
   "outputs": [],
   "source": [
    "dados = np.array([149., 160., 147., 189., 175., 168., 156., 160., 152.])"
   ]
  },
  {
   "cell_type": "code",
   "execution_count": 3,
   "id": "c8425751",
   "metadata": {},
   "outputs": [
    {
     "data": {
      "text/plain": [
       "9"
      ]
     },
     "execution_count": 3,
     "metadata": {},
     "output_type": "execute_result"
    }
   ],
   "source": [
    "n = len(dados)\n",
    "n"
   ]
  },
  {
   "cell_type": "code",
   "execution_count": 4,
   "id": "8f912f44",
   "metadata": {},
   "outputs": [
    {
     "data": {
      "text/plain": [
       "161.77777777777777"
      ]
     },
     "execution_count": 4,
     "metadata": {},
     "output_type": "execute_result"
    }
   ],
   "source": [
    "media = np.mean(dados)\n",
    "media"
   ]
  },
  {
   "cell_type": "code",
   "execution_count": 5,
   "id": "06b8af3a",
   "metadata": {},
   "outputs": [
    {
     "data": {
      "text/plain": [
       "12.786953227391823"
      ]
     },
     "execution_count": 5,
     "metadata": {},
     "output_type": "execute_result"
    }
   ],
   "source": [
    "desvio_padrao = np.std(dados)\n",
    "desvio_padrao"
   ]
  },
  {
   "cell_type": "code",
   "execution_count": 9,
   "id": "29a4da69",
   "metadata": {},
   "outputs": [
    {
     "data": {
      "text/plain": [
       "(151.9488554388298, 171.60670011672573)"
      ]
     },
     "execution_count": 9,
     "metadata": {},
     "output_type": "execute_result"
    }
   ],
   "source": [
    "intervalos = t.interval(0.95, n - 1, media, stats.sem(dados, ddof=0))\n",
    "intervalos"
   ]
  },
  {
   "cell_type": "code",
   "execution_count": 11,
   "id": "e0c8d761",
   "metadata": {},
   "outputs": [
    {
     "data": {
      "text/plain": [
       "9.828922338947962"
      ]
     },
     "execution_count": 11,
     "metadata": {},
     "output_type": "execute_result"
    }
   ],
   "source": [
    "margem_erro = media - intervalos[0]\n",
    "margem_erro"
   ]
  },
  {
   "cell_type": "code",
   "execution_count": null,
   "id": "23405964",
   "metadata": {},
   "outputs": [],
   "source": []
  }
 ],
 "metadata": {
  "kernelspec": {
   "display_name": "Python 3 (ipykernel)",
   "language": "python",
   "name": "python3"
  },
  "language_info": {
   "codemirror_mode": {
    "name": "ipython",
    "version": 3
   },
   "file_extension": ".py",
   "mimetype": "text/x-python",
   "name": "python",
   "nbconvert_exporter": "python",
   "pygments_lexer": "ipython3",
   "version": "3.9.7"
  }
 },
 "nbformat": 4,
 "nbformat_minor": 5
}

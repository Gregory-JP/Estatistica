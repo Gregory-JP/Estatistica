{
 "cells": [
  {
   "cell_type": "code",
   "execution_count": 6,
   "id": "5d67cc62",
   "metadata": {},
   "outputs": [],
   "source": [
    "import matplotlib.pyplot as plt\n",
    "import numpy as np"
   ]
  },
  {
   "cell_type": "code",
   "execution_count": 2,
   "id": "1cc380aa",
   "metadata": {},
   "outputs": [],
   "source": [
    "dados = np.array([160, 165, 167, 164, 160, 166, 160, 161, 150, 152, 173, 160, 155,\n",
    "                  164, 168, 162, 161, 168, 163, 156, 155, 169, 151, 170, 164,\n",
    "                  155, 152, 163, 160, 155, 157, 156, 158, 158, 161, 154, 161, 156, 172, 153])"
   ]
  },
  {
   "cell_type": "code",
   "execution_count": 3,
   "id": "c9051eaa",
   "metadata": {},
   "outputs": [],
   "source": [
    "frequencia, classes = np.histogram(dados)"
   ]
  },
  {
   "cell_type": "code",
   "execution_count": 4,
   "id": "b4486094",
   "metadata": {},
   "outputs": [
    {
     "data": {
      "text/plain": [
       "(array([4, 2, 7, 3, 9, 3, 5, 3, 2, 2], dtype=int64),\n",
       " array([150. , 152.3, 154.6, 156.9, 159.2, 161.5, 163.8, 166.1, 168.4,\n",
       "        170.7, 173. ]))"
      ]
     },
     "execution_count": 4,
     "metadata": {},
     "output_type": "execute_result"
    }
   ],
   "source": [
    "frequencia, classes"
   ]
  },
  {
   "cell_type": "code",
   "execution_count": 8,
   "id": "38b51acb",
   "metadata": {},
   "outputs": [
    {
     "data": {
      "image/png": "[encoded data removed]",
      "text/plain": [
       "<Figure size 432x288 with 1 Axes>"
      ]
     },
     "metadata": {
      "needs_background": "light"
     },
     "output_type": "display_data"
    }
   ],
   "source": [
    "plt.hist(dados, bins=classes);"
   ]
  },
  {
   "cell_type": "code",
   "execution_count": 13,
   "id": "ac36bbae",
   "metadata": {},
   "outputs": [
    {
     "data": {
      "text/plain": [
       "(array([ 6, 10, 12,  8,  4], dtype=int64),\n",
       " array([150. , 154.6, 159.2, 163.8, 168.4, 173. ]))"
      ]
     },
     "execution_count": 13,
     "metadata": {},
     "output_type": "execute_result"
    }
   ],
   "source": [
    "frequencia, classes = np.histogram(dados, bins=5)\n",
    "frequencia, classes"
   ]
  },
  {
   "cell_type": "code",
   "execution_count": 14,
   "id": "ae73448b",
   "metadata": {},
   "outputs": [
    {
     "data": {
      "image/png": "[encoded data removed]",
      "text/plain": [
       "<Figure size 432x288 with 1 Axes>"
      ]
     },
     "metadata": {
      "needs_background": "light"
     },
     "output_type": "display_data"
    }
   ],
   "source": [
    "plt.hist(dados, classes);"
   ]
  },
  {
   "cell_type": "code",
   "execution_count": 15,
   "id": "b7df407a",
   "metadata": {},
   "outputs": [
    {
     "data": {
      "text/plain": [
       "(array([ 5,  8,  3, 12,  5,  4,  3], dtype=int64),\n",
       " array([150.        , 153.28571429, 156.57142857, 159.85714286,\n",
       "        163.14285714, 166.42857143, 169.71428571, 173.        ]))"
      ]
     },
     "execution_count": 15,
     "metadata": {},
     "output_type": "execute_result"
    }
   ],
   "source": [
    "frequencia, classes = np.histogram(dados, bins='sturges')\n",
    "frequencia, classes"
   ]
  },
  {
   "cell_type": "code",
   "execution_count": 17,
   "id": "563c545e",
   "metadata": {},
   "outputs": [
    {
     "data": {
      "image/png": "[encoded data removed]",
      "text/plain": [
       "<Figure size 432x288 with 1 Axes>"
      ]
     },
     "metadata": {
      "needs_background": "light"
     },
     "output_type": "display_data"
    }
   ],
   "source": [
    "plt.hist(dados, classes);"
   ]
  },
  {
   "cell_type": "markdown",
   "id": "81d62f80",
   "metadata": {},
   "source": [
    "## Distribuição de frequência e histograma com pandas e seaborn"
   ]
  },
  {
   "cell_type": "code",
   "execution_count": 20,
   "id": "b20e9f36",
   "metadata": {},
   "outputs": [],
   "source": [
    "import seaborn as sns\n",
    "import pandas as pd"
   ]
  },
  {
   "cell_type": "code",
   "execution_count": 21,
   "id": "bcaea7ee",
   "metadata": {},
   "outputs": [],
   "source": [
    "df = pd.DataFrame({'dados':dados})"
   ]
  },
  {
   "cell_type": "code",
   "execution_count": 23,
   "id": "5148c519",
   "metadata": {},
   "outputs": [
    {
     "data": {
      "text/html": [
       "<div>\n",
       "<style scoped>\n",
       "    .dataframe tbody tr th:only-of-type {\n",
       "        vertical-align: middle;\n",
       "    }\n",
       "\n",
       "    .dataframe tbody tr th {\n",
       "        vertical-align: top;\n",
       "    }\n",
       "\n",
       "    .dataframe thead th {\n",
       "        text-align: right;\n",
       "    }\n",
       "</style>\n",
       "<table border=\"1\" class=\"dataframe\">\n",
       "  <thead>\n",
       "    <tr style=\"text-align: right;\">\n",
       "      <th></th>\n",
       "      <th>dados</th>\n",
       "    </tr>\n",
       "  </thead>\n",
       "  <tbody>\n",
       "    <tr>\n",
       "      <th>0</th>\n",
       "      <td>160</td>\n",
       "    </tr>\n",
       "    <tr>\n",
       "      <th>1</th>\n",
       "      <td>165</td>\n",
       "    </tr>\n",
       "    <tr>\n",
       "      <th>2</th>\n",
       "      <td>167</td>\n",
       "    </tr>\n",
       "    <tr>\n",
       "      <th>3</th>\n",
       "      <td>164</td>\n",
       "    </tr>\n",
       "    <tr>\n",
       "      <th>4</th>\n",
       "      <td>160</td>\n",
       "    </tr>\n",
       "  </tbody>\n",
       "</table>\n",
       "</div>"
      ],
      "text/plain": [
       "   dados\n",
       "0    160\n",
       "1    165\n",
       "2    167\n",
       "3    164\n",
       "4    160"
      ]
     },
     "execution_count": 23,
     "metadata": {},
     "output_type": "execute_result"
    }
   ],
   "source": [
    "df.head()"
   ]
  },
  {
   "cell_type": "code",
   "execution_count": 26,
   "id": "03dc8e80",
   "metadata": {},
   "outputs": [
    {
     "data": {
      "image/png": "[encoded data removed]",
      "text/plain": [
       "<Figure size 432x288 with 1 Axes>"
      ]
     },
     "metadata": {
      "needs_background": "light"
     },
     "output_type": "display_data"
    }
   ],
   "source": [
    "df.plot.hist(); # pandas"
   ]
  },
  {
   "cell_type": "code",
   "execution_count": 31,
   "id": "7f59a729",
   "metadata": {},
   "outputs": [
    {
     "name": "stderr",
     "output_type": "stream",
     "text": [
      "C:\\Users\\Gregory\\anaconda3\\lib\\site-packages\\seaborn\\distributions.py:2619: FutureWarning: `distplot` is a deprecated function and will be removed in a future version. Please adapt your code to use either `displot` (a figure-level function with similar flexibility) or `histplot` (an axes-level function for histograms).\n",
      "  warnings.warn(msg, FutureWarning)\n"
     ]
    },
    {
     "data": {
      "image/png": "[encoded data removed]",
      "text/plain": [
       "<Figure size 432x288 with 1 Axes>"
      ]
     },
     "metadata": {
      "needs_background": "light"
     },
     "output_type": "display_data"
    }
   ],
   "source": [
    "sns.distplot(dados); # seaborn"
   ]
  },
  {
   "cell_type": "code",
   "execution_count": null,
   "id": "3df96b79",
   "metadata": {},
   "outputs": [],
   "source": []
  }
 ],
 "metadata": {
  "kernelspec": {
   "display_name": "Python 3 (ipykernel)",
   "language": "python",
   "name": "python3"
  },
  "language_info": {
   "codemirror_mode": {
    "name": "ipython",
    "version": 3
   },
   "file_extension": ".py",
   "mimetype": "text/x-python",
   "name": "python",
   "nbconvert_exporter": "python",
   "pygments_lexer": "ipython3",
   "version": "3.9.7"
  }
 },
 "nbformat": 4,
 "nbformat_minor": 5
}

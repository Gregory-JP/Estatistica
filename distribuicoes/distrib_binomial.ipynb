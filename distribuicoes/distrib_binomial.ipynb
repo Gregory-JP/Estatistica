{
 "cells": [
  {
   "cell_type": "code",
   "execution_count": 5,
   "id": "cc24a2b0",
   "metadata": {},
   "outputs": [],
   "source": [
    "from scipy.stats import binom\n",
    "import seaborn as sns"
   ]
  },
  {
   "cell_type": "code",
   "execution_count": 40,
   "id": "035392b0",
   "metadata": {},
   "outputs": [],
   "source": [
    "dados_binom = binom.rvs(size=1000, n=10, p=0.8)"
   ]
  },
  {
   "cell_type": "code",
   "execution_count": 41,
   "id": "d512258b",
   "metadata": {},
   "outputs": [
    {
     "data": {
      "text/plain": [
       "array([ 8,  8,  9,  9,  8,  9,  7,  8,  6,  6,  7,  8,  9,  8,  6, 10,  9,\n",
       "        9,  6,  8,  9,  8,  9,  7,  9,  8,  7,  8,  9,  9, 10,  7,  8, 10,\n",
       "        6, 10,  7,  8,  8,  9,  9,  6,  8,  9,  9,  8,  9,  8,  7,  7,  8,\n",
       "        8,  9,  9,  8,  8,  6,  9,  8,  7,  7,  6,  6,  8,  7,  7,  7,  4,\n",
       "        6, 10,  8,  7,  8,  7,  8,  7,  6,  7,  6,  6,  9,  9,  8,  9,  8,\n",
       "        5,  8,  7,  8,  9,  8,  9,  8,  8,  8,  8,  8,  5,  8,  6,  8,  6,\n",
       "        6,  9, 10,  9,  9,  8,  7,  9,  8,  9,  8,  8,  9,  5,  9,  9,  6,\n",
       "        7,  8,  7,  9,  9,  8,  7,  9,  8, 10,  8,  9,  7,  8,  7,  8, 10,\n",
       "        9,  9,  9,  8,  8,  8,  7,  7,  8,  7,  9,  8,  8,  7,  7,  9,  8,\n",
       "        8,  7,  8,  8,  8,  8, 10,  9,  9,  9,  9, 10,  9,  8,  9,  8,  8,\n",
       "        8,  6,  9, 10,  8,  8,  9,  9,  8,  9,  6,  8,  7,  8,  9,  8,  8,\n",
       "        7,  8,  9,  8,  9,  9,  8, 10,  7,  8,  5,  8,  9,  8,  8,  8,  6,\n",
       "       10,  7,  5,  6,  8,  8,  9, 10,  8,  9,  6,  8,  6,  6,  9, 10,  9,\n",
       "        9,  8,  8,  7, 10,  9,  7, 10,  9,  9, 10, 10,  8,  8,  8,  8,  7,\n",
       "        9,  8,  8,  9,  9, 10,  7,  6,  6,  6,  8,  8,  9,  7,  8,  9,  8,\n",
       "        6,  8,  7,  8,  8,  6,  8,  9,  9,  9,  6,  9,  8,  6, 10,  7,  9,\n",
       "        6,  6,  8,  9, 10,  9,  8,  5,  8,  6,  7,  9,  6,  6,  9, 10,  8,\n",
       "        8,  9,  9,  9,  9,  7,  8,  8,  7,  8,  7,  6,  7,  7,  8,  9,  8,\n",
       "        8,  9,  8,  9,  7,  8,  9,  7,  7,  8,  8,  8,  6,  7,  8,  8, 10,\n",
       "        5, 10,  7,  9,  9, 10,  8,  8,  9,  9,  8,  8,  8,  7,  6,  9,  8,\n",
       "        8,  6,  9,  9,  8,  9,  6, 10,  9, 10,  9, 10,  7,  8,  8, 10,  8,\n",
       "        9,  9,  7,  8,  8,  8,  7,  9,  8,  5,  8,  9,  9,  8,  7, 10, 10,\n",
       "        8,  6,  7,  7,  9,  8,  8,  9,  9,  7,  8,  8, 10,  6,  5,  9,  8,\n",
       "        9,  9,  7,  8,  8,  9,  8,  3,  6,  8,  6,  8, 10,  8,  6,  6,  8,\n",
       "        9,  7,  7,  9,  9, 10,  7,  9,  7,  7,  8,  8,  7,  7,  8,  7,  7,\n",
       "        7,  8,  8, 10,  8,  8,  9, 10,  8,  6,  8,  8,  8,  9,  7,  8,  6,\n",
       "        9,  7,  6,  8,  8,  8,  9,  7,  8,  5,  8,  9,  9,  7,  7,  9,  7,\n",
       "        7,  8,  7,  8,  8,  9,  7,  7,  9,  8,  8,  8,  8,  7,  9,  7,  8,\n",
       "        9,  9,  8,  8,  7,  8,  8,  8,  7,  8,  7,  9, 10,  9, 10,  7,  7,\n",
       "        9,  9, 10, 10, 10,  8,  7,  6,  7,  7,  8,  5,  6,  8,  8,  7,  9,\n",
       "       10,  9,  9,  7,  8,  8,  7,  8,  8,  9,  9,  6,  9,  8,  8,  9,  7,\n",
       "       10,  9,  7,  7,  7, 10,  8,  9,  8,  7,  7,  8,  9,  7,  9,  9,  4,\n",
       "        9,  9, 10,  8,  8,  9,  9, 10,  7,  7,  9,  7, 10,  8,  6, 10,  7,\n",
       "        7,  7,  9, 10,  8,  7, 10,  8,  7,  8,  9,  9,  8,  8,  7,  8,  8,\n",
       "        7, 10, 10,  7, 10,  9,  7,  7,  9,  7,  7,  9,  9,  8,  9,  8,  8,\n",
       "        9,  5,  8,  8, 10,  7,  7,  9,  5,  9,  8,  9,  4,  9,  9,  6,  9,\n",
       "        8,  8,  7,  7,  8,  9, 10,  5,  8,  9,  8,  5,  9,  8,  5,  8,  7,\n",
       "        8,  5,  7,  7,  8,  8,  8,  8,  5,  6,  5,  8,  8,  8,  9,  8,  8,\n",
       "        5,  7,  5,  8,  9,  8,  9,  7,  9,  8,  7, 10, 10,  8,  8,  7,  9,\n",
       "        8,  8,  9,  9, 10,  7,  9,  7,  8,  8,  7,  5,  6,  7, 10,  9, 10,\n",
       "        9,  9,  8,  9,  8,  6,  7,  8,  8,  9,  8,  7,  7,  8,  7,  9, 10,\n",
       "        8,  9,  6,  8,  8,  9, 10,  8,  9,  7,  6, 10,  6,  8,  9,  9,  7,\n",
       "        7, 10,  8,  7,  8,  9,  8,  9,  8, 10,  7,  8,  6,  8, 10,  5,  6,\n",
       "        9,  7,  9,  9,  9,  8,  8,  7, 10,  7,  8,  5,  9,  7,  7,  7,  8,\n",
       "        8,  7,  7,  9,  9,  8,  8,  8,  7,  7,  8, 10,  9,  9,  8, 10,  9,\n",
       "        9, 10,  9,  9,  8, 10, 10,  8, 10,  8,  8, 10,  8,  9,  7,  8,  5,\n",
       "        5,  9,  7,  8,  6,  7,  8,  9,  8,  9, 10,  9,  7,  8,  6,  9,  9,\n",
       "        5, 10,  8,  8,  7,  8,  9,  8,  8,  9,  8,  8,  8,  7,  9,  7,  8,\n",
       "       10,  8,  9,  9,  9,  8,  7,  8,  7,  7,  7,  8, 10,  8, 10,  9,  7,\n",
       "        7, 10,  9,  8,  7,  8,  9,  7,  9,  8,  9,  6,  6,  9,  8,  9,  9,\n",
       "        6, 10,  6,  8,  9, 10,  5,  8,  8,  8,  8,  9,  7, 10,  7,  9,  9,\n",
       "        7,  8,  6,  7,  9,  9,  7,  8,  8,  7,  6,  8,  9,  7,  9,  7,  9,\n",
       "        8,  7, 10,  6,  7,  8,  6,  6,  9,  9,  7,  9,  7,  9,  9,  7,  7,\n",
       "        8,  6, 10, 10,  5,  9,  7,  8,  9,  8,  7,  9,  8,  9,  8,  8,  8,\n",
       "        8,  6,  5,  8,  8,  8,  7,  7,  9,  7, 10,  5,  7,  8,  7,  9,  7,\n",
       "        9,  7, 10,  8, 10, 10, 10,  9,  7,  8,  8,  9,  8,  9,  8,  6,  9,\n",
       "        9,  7,  8,  8,  8,  8,  9,  8,  7,  8,  8,  9,  8,  7,  9,  9,  6,\n",
       "        6,  6,  6,  8,  7,  9,  9,  9,  9,  8,  9,  7,  9,  9,  8, 10,  7,\n",
       "        8,  7,  5,  9,  8, 10,  7, 10, 10,  7,  9, 10,  7,  7])"
      ]
     },
     "execution_count": 41,
     "metadata": {},
     "output_type": "execute_result"
    }
   ],
   "source": [
    "dados_binom"
   ]
  },
  {
   "cell_type": "code",
   "execution_count": 42,
   "id": "75325bf5",
   "metadata": {},
   "outputs": [],
   "source": [
    "import numpy as np"
   ]
  },
  {
   "cell_type": "code",
   "execution_count": 43,
   "id": "d4ab1c5e",
   "metadata": {},
   "outputs": [
    {
     "data": {
      "text/plain": [
       "(array([ 3,  4,  5,  6,  7,  8,  9, 10]),\n",
       " array([  1,   3,  32,  81, 200, 329, 257,  97], dtype=int64))"
      ]
     },
     "execution_count": 43,
     "metadata": {},
     "output_type": "execute_result"
    }
   ],
   "source": [
    "np.unique(dados_binom, return_counts=True)"
   ]
  },
  {
   "cell_type": "code",
   "execution_count": 44,
   "id": "6975f862",
   "metadata": {},
   "outputs": [
    {
     "data": {
      "image/png": "[encoded data removed]",
      "text/plain": [
       "<Figure size 360x360 with 1 Axes>"
      ]
     },
     "metadata": {
      "needs_background": "light"
     },
     "output_type": "display_data"
    }
   ],
   "source": [
    "sns.displot(dados_binom, kde=True);"
   ]
  },
  {
   "cell_type": "code",
   "execution_count": null,
   "id": "9b80d22b",
   "metadata": {},
   "outputs": [],
   "source": []
  }
 ],
 "metadata": {
  "kernelspec": {
   "display_name": "Python 3 (ipykernel)",
   "language": "python",
   "name": "python3"
  },
  "language_info": {
   "codemirror_mode": {
    "name": "ipython",
    "version": 3
   },
   "file_extension": ".py",
   "mimetype": "text/x-python",
   "name": "python",
   "nbconvert_exporter": "python",
   "pygments_lexer": "ipython3",
   "version": "3.9.7"
  }
 },
 "nbformat": 4,
 "nbformat_minor": 5
}
